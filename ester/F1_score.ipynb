{
  "nbformat": 4,
  "nbformat_minor": 0,
  "metadata": {
    "colab": {
      "name": "F1_score.ipynb",
      "provenance": [],
      "collapsed_sections": []
    },
    "kernelspec": {
      "name": "python3",
      "display_name": "Python 3"
    },
    "language_info": {
      "name": "python"
    }
  },
  "cells": [
    {
      "cell_type": "code",
      "execution_count": 2,
      "metadata": {
        "id": "07cGRT58FVft"
      },
      "outputs": [],
      "source": [
        "import numpy as np\n",
        "import sys"
      ]
    },
    {
      "cell_type": "code",
      "source": [
        "def F1_score(z_true, z_pred, precision):\n",
        "\n",
        "  \"\"\"\n",
        "  # Parameters\n",
        "    z_true : the true z-position of the particles\n",
        "    z_pred : the z-positions predicted by the network\n",
        "    precision : desired precision for z position prediction (in pixels)\n",
        "  # Return\n",
        "    F1-score for given predictions and diserad prediction\n",
        "  \"\"\"\n",
        "  if z_pred.size != z_true.size:\n",
        "    raise TypeError(\"z_true and Z_pred must be of same length.\")\n",
        "\n",
        "  TP, TN, FP, FN = 0, 0, 0, 0\n",
        "  for i in range(z_pred.size):\n",
        "    if np.isnan(z_true[i]):\n",
        "      if np.isnan(z_pred[i]):\n",
        "        TN+=1\n",
        "      else:\n",
        "        FP+=1\n",
        "    elif np.isnan(z_pred[i]):\n",
        "      FN+=1     \n",
        "    elif z_pred[i] < z_true[i] + precision and z_pred[i] > z_true[i] - precision:\n",
        "      TP +=1\n",
        "    elif z_pred[i] > z_true[i] + precision or z_pred[i] > z_true[i] - precision:\n",
        "      FP +=1\n",
        "    \n",
        "  prec = TP / (TP + FP)\n",
        "  recall = TP / (TP + FN)\n",
        "  return 2 * prec * recall / (prec + recall)\n",
        "    "
      ],
      "metadata": {
        "id": "4apzqOcbF67y"
      },
      "execution_count": 20,
      "outputs": []
    },
    {
      "cell_type": "markdown",
      "source": [
        "Example: how to use function"
      ],
      "metadata": {
        "id": "PCNVs9XzPrAL"
      }
    },
    {
      "cell_type": "code",
      "source": [
        "z_pred = np.array([1, 2, 3, 4, 5, np.NaN, np.NaN, 2])\n",
        "z_calc = np.array([1.3, 7, 3, 6, 5, np.NaN, 2, np.NaN])\n",
        "print(F1_score(z_pred, z_calc, .5))"
      ],
      "metadata": {
        "colab": {
          "base_uri": "https://localhost:8080/"
        },
        "id": "H1n-UrIuJXvv",
        "outputId": "f3ff6eee-a985-4d7d-ccf9-4f5547b95507"
      },
      "execution_count": 22,
      "outputs": [
        {
          "output_type": "stream",
          "name": "stdout",
          "text": [
            "0.6\n"
          ]
        }
      ]
    }
  ]
}