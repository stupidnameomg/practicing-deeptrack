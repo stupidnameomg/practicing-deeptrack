{
  "nbformat": 4,
  "nbformat_minor": 0,
  "metadata": {
    "colab": {
      "name": "git_test.ipynb",
      "provenance": [],
      "collapsed_sections": [],
      "include_colab_link": true
    },
    "kernelspec": {
      "name": "python3",
      "display_name": "Python 3"
    },
    "language_info": {
      "name": "python"
    }
  },
  "cells": [
    {
      "cell_type": "markdown",
      "metadata": {
        "id": "view-in-github",
        "colab_type": "text"
      },
      "source": [
        "<a href=\"https://colab.research.google.com/github/stupidnameomg/practicing-deeptrack/blob/main/ester/git_test.ipynb\" target=\"_parent\"><img src=\"https://colab.research.google.com/assets/colab-badge.svg\" alt=\"Open In Colab\"/></a>"
      ]
    },
    {
      "cell_type": "markdown",
      "source": [
        "# Mount Google Drive"
      ],
      "metadata": {
        "id": "IYczQVFC3ANA"
      }
    },
    {
      "cell_type": "code",
      "execution_count": null,
      "metadata": {
        "colab": {
          "base_uri": "https://localhost:8080/"
        },
        "id": "ed_fPBOxbZEI",
        "outputId": "02c0854e-2b19-4a97-b3da-0258760dc831"
      },
      "outputs": [
        {
          "output_type": "stream",
          "name": "stdout",
          "text": [
            "Drive already mounted at /content/drive; to attempt to forcibly remount, call drive.mount(\"/content/drive\", force_remount=True).\n"
          ]
        }
      ],
      "source": [
        "from google.colab import drive\n",
        "drive.mount('/content/drive')"
      ]
    },
    {
      "cell_type": "markdown",
      "source": [
        "# Initial setup"
      ],
      "metadata": {
        "id": "_qWw50j73ECU"
      }
    },
    {
      "cell_type": "code",
      "source": [
        "%mkdir /content/drive/MyDrive/Github/"
      ],
      "metadata": {
        "id": "ysKJoYDj2n4w",
        "colab": {
          "base_uri": "https://localhost:8080/"
        },
        "outputId": "81979042-58ca-4e27-f2d4-3f3f01d8dea1"
      },
      "execution_count": null,
      "outputs": [
        {
          "output_type": "stream",
          "name": "stdout",
          "text": [
            "mkdir: cannot create directory ‘/content/drive/MyDrive/Github/’: File exists\n"
          ]
        }
      ]
    },
    {
      "cell_type": "code",
      "source": [
        "%cd /content/drive/MyDrive/Github/"
      ],
      "metadata": {
        "id": "iwrlvySr2mFI",
        "colab": {
          "base_uri": "https://localhost:8080/"
        },
        "outputId": "a69bb9f1-112b-4cf4-a1be-ca0870e42196"
      },
      "execution_count": null,
      "outputs": [
        {
          "output_type": "stream",
          "name": "stdout",
          "text": [
            "/content/drive/MyDrive/Github\n"
          ]
        }
      ]
    },
    {
      "cell_type": "code",
      "source": [
        "!ssh-keygen -t rsa -b 4096 -C \"esterhagstrom@gmail.com\" -f /content/drive/MyDrive/Github/mykey"
      ],
      "metadata": {
        "id": "ny9R65HY20Vo",
        "colab": {
          "base_uri": "https://localhost:8080/"
        },
        "outputId": "eebf5b9e-47ff-4d7c-89c6-1641f19037df"
      },
      "execution_count": null,
      "outputs": [
        {
          "output_type": "stream",
          "name": "stdout",
          "text": [
            "Generating public/private rsa key pair.\n",
            "Enter passphrase (empty for no passphrase): \n",
            "Enter same passphrase again: \n",
            "Your identification has been saved in /content/drive/MyDrive/Github/mykey.\n",
            "Your public key has been saved in /content/drive/MyDrive/Github/mykey.pub.\n",
            "The key fingerprint is:\n",
            "SHA256:ODeFgZWQBwoFcxw2i2VIGRdOtCGgdSQeIKSLE6Wz03U esterhagstrom@gmail.com\n",
            "The key's randomart image is:\n",
            "+---[RSA 4096]----+\n",
            "|==%X^oo*o.       |\n",
            "|+=o^.*o oo       |\n",
            "|* o * E.. .      |\n",
            "|.* . . . .       |\n",
            "|* .   o S        |\n",
            "| o     o .       |\n",
            "|                 |\n",
            "|                 |\n",
            "|                 |\n",
            "+----[SHA256]-----+\n"
          ]
        }
      ]
    },
    {
      "cell_type": "code",
      "source": [
        "!ssh-keyscan -t rsa github.com >> ~/.ssh/known_hosts"
      ],
      "metadata": {
        "colab": {
          "base_uri": "https://localhost:8080/"
        },
        "id": "aqDAgJ3WoJDk",
        "outputId": "29c922b4-5c51-4661-9954-309f5d960c82"
      },
      "execution_count": null,
      "outputs": [
        {
          "output_type": "stream",
          "name": "stdout",
          "text": [
            "getaddrinfo -f: Name or service not known\r\n",
            "getaddrinfo /content/drive/MyDrive/Github/mykey.pub: Name or service not known\r\n",
            "# github.com:22 SSH-2.0-babeld-00610741\n"
          ]
        }
      ]
    },
    {
      "cell_type": "code",
      "source": [
        "!cat /root/.ssh/id_rsa.pub"
      ],
      "metadata": {
        "id": "Sf1ASNRT27cU",
        "colab": {
          "base_uri": "https://localhost:8080/"
        },
        "outputId": "7ea14a02-009d-47e9-c251-027f93382b06"
      },
      "execution_count": null,
      "outputs": [
        {
          "output_type": "stream",
          "name": "stdout",
          "text": [
            "cat: /root/.ssh/id_rsa.pub: No such file or directory\n"
          ]
        }
      ]
    },
    {
      "cell_type": "code",
      "source": [
        "!ssh -T git@github.com"
      ],
      "metadata": {
        "colab": {
          "base_uri": "https://localhost:8080/"
        },
        "id": "K0rtZCjvojeM",
        "outputId": "252f28b3-2f9c-4dd7-fba8-e51916f4d392"
      },
      "execution_count": null,
      "outputs": [
        {
          "output_type": "stream",
          "name": "stdout",
          "text": [
            "Host key verification failed.\r\n"
          ]
        }
      ]
    },
    {
      "cell_type": "code",
      "source": [
        "!git config --global user.email \"esterhagstrom@gmail.com\"\n",
        "!git config --global user.name \"esterhs\""
      ],
      "metadata": {
        "id": "ZB8Lgc5jnNJM"
      },
      "execution_count": null,
      "outputs": []
    },
    {
      "cell_type": "markdown",
      "source": [
        "# Maybe use if you have problems with setup"
      ],
      "metadata": {
        "id": "xtBpwRa23WnY"
      }
    },
    {
      "cell_type": "code",
      "source": [
        "!echo ref: refs/heads/master >.git/HEAD"
      ],
      "metadata": {
        "id": "nJ1Ep9hnpgF4"
      },
      "execution_count": null,
      "outputs": []
    },
    {
      "cell_type": "code",
      "source": [
        "!git checkout main"
      ],
      "metadata": {
        "colab": {
          "base_uri": "https://localhost:8080/"
        },
        "id": "iSy5yy5dptJ0",
        "outputId": "18f76ecf-57a1-4424-f70c-59976f2e98fa"
      },
      "execution_count": null,
      "outputs": [
        {
          "output_type": "stream",
          "name": "stdout",
          "text": [
            "M\telias/TEST_TWO_MODELS_20220207.ipynb\n",
            "Already on 'main'\n",
            "Your branch is up to date with 'origin/main'.\n"
          ]
        }
      ]
    },
    {
      "cell_type": "markdown",
      "source": [
        "# Already set up"
      ],
      "metadata": {
        "id": "yoTl3Uxm3J-A"
      }
    },
    {
      "cell_type": "code",
      "source": [
        "%cd /content/drive/MyDrive/Github/practicing-deeptrack"
      ],
      "metadata": {
        "id": "4JFbqWA23PY4",
        "colab": {
          "base_uri": "https://localhost:8080/"
        },
        "outputId": "b71a7d48-f075-4053-805b-b2cd25cdc645"
      },
      "execution_count": null,
      "outputs": [
        {
          "output_type": "stream",
          "name": "stdout",
          "text": [
            "/content/drive/MyDrive/Github/practicing-deeptrack\n"
          ]
        }
      ]
    },
    {
      "cell_type": "markdown",
      "source": [
        "# Use git"
      ],
      "metadata": {
        "id": "1FOPmTC-3QGM"
      }
    },
    {
      "cell_type": "markdown",
      "source": [
        "Clona repository (byt ev. ut ssh-länken för annan rep)"
      ],
      "metadata": {
        "id": "N7RVlxX46JLL"
      }
    },
    {
      "cell_type": "code",
      "source": [
        "!git clone git@github.com:stupidnameomg/practicing-deeptrack.git"
      ],
      "metadata": {
        "colab": {
          "base_uri": "https://localhost:8080/"
        },
        "id": "gW-sBTyv6mBO",
        "outputId": "9de0e35e-259f-428b-b1fc-e09e098174af"
      },
      "execution_count": null,
      "outputs": [
        {
          "output_type": "stream",
          "name": "stdout",
          "text": [
            "Cloning into 'practicing-deeptrack'...\n",
            "Warning: Permanently added the RSA host key for IP address '13.114.40.48' to the list of known hosts.\n",
            "remote: Enumerating objects: 97, done.\u001b[K\n",
            "remote: Counting objects: 100% (97/97), done.\u001b[K\n",
            "remote: Compressing objects: 100% (74/74), done.\u001b[K\n",
            "remote: Total 97 (delta 40), reused 55 (delta 19), pack-reused 0\u001b[K\n",
            "Receiving objects: 100% (97/97), 44.72 MiB | 8.27 MiB/s, done.\n",
            "Resolving deltas: 100% (40/40), done.\n"
          ]
        }
      ]
    },
    {
      "cell_type": "code",
      "source": [
        "%pwd"
      ],
      "metadata": {
        "colab": {
          "base_uri": "https://localhost:8080/",
          "height": 35
        },
        "id": "oAY6H5Ca6rFy",
        "outputId": "0928c238-120d-4ba4-c08f-d34271b28e61"
      },
      "execution_count": null,
      "outputs": [
        {
          "output_type": "execute_result",
          "data": {
            "application/vnd.google.colaboratory.intrinsic+json": {
              "type": "string"
            },
            "text/plain": [
              "'/content/drive/MyDrive/Github'"
            ]
          },
          "metadata": {},
          "execution_count": 14
        }
      ]
    },
    {
      "cell_type": "code",
      "source": [
        "%cd practicing-deeptrack/"
      ],
      "metadata": {
        "colab": {
          "base_uri": "https://localhost:8080/"
        },
        "id": "vymfGXfa63No",
        "outputId": "b1c5ce65-423e-4831-897d-d3e1aa7b8840"
      },
      "execution_count": null,
      "outputs": [
        {
          "output_type": "stream",
          "name": "stdout",
          "text": [
            "/content/drive/MyDrive/Github/practicing-deeptrack\n"
          ]
        }
      ]
    },
    {
      "cell_type": "markdown",
      "source": [
        "Gå till main branch (eller valfri annan branch genom att byta ut main mot branchname)"
      ],
      "metadata": {
        "id": "Sr-pFnz08zQf"
      }
    },
    {
      "cell_type": "code",
      "source": [
        "!git checkout main"
      ],
      "metadata": {
        "colab": {
          "base_uri": "https://localhost:8080/"
        },
        "id": "G0OHne9h7Cuo",
        "outputId": "ee8ca96b-ae19-4c30-cce5-bd79ec05982f"
      },
      "execution_count": null,
      "outputs": [
        {
          "output_type": "stream",
          "name": "stdout",
          "text": [
            "Switched to branch 'main'\n",
            "Your branch is up to date with 'origin/main'.\n"
          ]
        }
      ]
    },
    {
      "cell_type": "code",
      "source": [
        "hämta senaste version av main repo"
      ],
      "metadata": {
        "id": "hRWWaEp_6jTd"
      },
      "execution_count": null,
      "outputs": []
    },
    {
      "cell_type": "code",
      "source": [
        "!git pull"
      ],
      "metadata": {
        "id": "02RUUnjF6gW-",
        "colab": {
          "base_uri": "https://localhost:8080/"
        },
        "outputId": "a4d70105-b07c-4713-ed03-b4353296a485"
      },
      "execution_count": null,
      "outputs": [
        {
          "output_type": "stream",
          "name": "stdout",
          "text": [
            "Host key verification failed.\r\n",
            "fatal: Could not read from remote repository.\n",
            "\n",
            "Please make sure you have the correct access rights\n",
            "and the repository exists.\n"
          ]
        }
      ]
    },
    {
      "cell_type": "code",
      "source": [
        "!git add ester/DEL12.py"
      ],
      "metadata": {
        "id": "1Xg48HM87gjP"
      },
      "execution_count": null,
      "outputs": []
    },
    {
      "cell_type": "code",
      "source": [
        "!git status"
      ],
      "metadata": {
        "colab": {
          "base_uri": "https://localhost:8080/"
        },
        "id": "DAA9yWdk7mc3",
        "outputId": "c29c334d-15f5-44c1-9784-90341e125eee"
      },
      "execution_count": null,
      "outputs": [
        {
          "output_type": "stream",
          "name": "stdout",
          "text": [
            "On branch main\n",
            "Your branch is up to date with 'origin/main'.\n",
            "\n",
            "Changes to be committed:\n",
            "  (use \"git reset HEAD <file>...\" to unstage)\n",
            "\n",
            "\t\u001b[32mnew file:   ester/DEL12.py\u001b[m\n",
            "\n"
          ]
        }
      ]
    },
    {
      "cell_type": "code",
      "source": [
        "!git commit -m \"testar att lägga til en random fil i min mapp\""
      ],
      "metadata": {
        "colab": {
          "base_uri": "https://localhost:8080/"
        },
        "id": "q3TtR7Q-8MNI",
        "outputId": "f5a7421a-bc4d-431e-c3f4-36ba922e9c0c"
      },
      "execution_count": null,
      "outputs": [
        {
          "output_type": "stream",
          "name": "stdout",
          "text": [
            "[main 9f442b1] testar att lägga til en random fil i min mapp\n",
            " 1 file changed, 40 insertions(+)\n",
            " create mode 100644 ester/DEL12.py\n"
          ]
        }
      ]
    },
    {
      "cell_type": "code",
      "source": [
        "!git push"
      ],
      "metadata": {
        "colab": {
          "base_uri": "https://localhost:8080/"
        },
        "id": "-dt0NmzA8jmN",
        "outputId": "7dbb780e-0982-4ad7-9981-7abcd2258680"
      },
      "execution_count": null,
      "outputs": [
        {
          "output_type": "stream",
          "name": "stdout",
          "text": [
            "Counting objects: 4, done.\n",
            "Delta compression using up to 2 threads.\n",
            "Compressing objects:  33% (1/3)   \rCompressing objects:  66% (2/3)   \rCompressing objects: 100% (3/3)   \rCompressing objects: 100% (3/3), done.\n",
            "Writing objects:  25% (1/4)   \rWriting objects:  50% (2/4)   \rWriting objects:  75% (3/4)   \rWriting objects: 100% (4/4)   \rWriting objects: 100% (4/4), 848 bytes | 141.00 KiB/s, done.\n",
            "Total 4 (delta 1), reused 0 (delta 0)\n",
            "remote: Resolving deltas: 100% (1/1), completed with 1 local object.\u001b[K\n",
            "To github.com:stupidnameomg/practicing-deeptrack.git\n",
            "   b3a81b8..9f442b1  main -> main\n"
          ]
        }
      ]
    }
  ]
}