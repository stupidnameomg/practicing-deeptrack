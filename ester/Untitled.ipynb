{
 "cells": [
  {
   "cell_type": "raw",
   "id": "c82c5e10-c29f-40fd-bd98-e34ab1f69abb",
   "metadata": {},
   "source": [
    "print(\"hej\")"
   ]
  }
 ],
 "metadata": {
  "kernelspec": {
   "display_name": "Python 3 (ipykernel)",
   "language": "python",
   "name": "python3"
  },
  "language_info": {
   "codemirror_mode": {
    "name": "ipython",
    "version": 3
   },
   "file_extension": ".py",
   "mimetype": "text/x-python",
   "name": "python",
   "nbconvert_exporter": "python",
   "pygments_lexer": "ipython3",
   "version": "3.9.7"
  }
 },
 "nbformat": 4,
 "nbformat_minor": 5
}
