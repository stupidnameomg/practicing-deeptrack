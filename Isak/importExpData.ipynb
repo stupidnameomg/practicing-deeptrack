{
 "cells": [
  {
   "cell_type": "code",
   "execution_count": 1,
   "metadata": {},
   "outputs": [],
   "source": [
    "import numpy as np\n",
    "import matplotlib.pyplot as plt\n",
    "plt.rcParams[\"figure.figsize\"] = (20, 10)\n",
    "import mat73"
   ]
  },
  {
   "cell_type": "code",
   "execution_count": 30,
   "metadata": {},
   "outputs": [],
   "source": [
    "\"\"\" Function to import used to unpack rows of FFT-field\"\"\"\n",
    "def exp_expand(data,shape):\n",
    "    x = np.arange(shape[0]) - shape[0] / 2\n",
    "    y = np.arange(shape[1]) - shape[1] / 2\n",
    "    X, Y = np.meshgrid(x, y)\n",
    "    bg=np.zeros((shape[0]*shape[1],))+0j\n",
    "    X=np.reshape(np.fft.fftshift(X),(shape[0]*shape[1]))\n",
    "    Y=np.reshape(np.fft.fftshift(Y),(shape[0]*shape[1]))\n",
    "    RHO=X**2+Y**2\n",
    "    Inds=np.argsort(RHO)\n",
    "    Inds=np.sort(Inds[:data.shape[0]])\n",
    "\n",
    "    bg[Inds[:data.shape[0]]]=data\n",
    "    bg=np.reshape(bg,(shape[0],shape[1]))\n",
    "  \n",
    "    return bg\n",
    "\n",
    "\n",
    "# Load a matfile with \"downsized\" ROI:s around particles found in the experimental data \n",
    "# Download mat-file from shared drive to your private one if to run in Colab!\n",
    "filePath = \"C:\\\\Users\\isakb\\OneDrive - Chalmers University of Technology\\Dokument\\F\\F3\\Kandidatarbete\\Labbets MATLAB-kod\\Data\\PSL240_noGold_TrackIm\\PSL240_noGoldEvery1_1_movie_1CompletedTraces.mat\"\n",
    "filePath = \"C:\\\\Users\\isakb\\OneDrive - Chalmers University of Technology\\Dokument\\F\\F3\\Kandidatarbete\\Labbets MATLAB-kod\\Data\\\\traces128x128ROI.mat\"\n",
    "\n",
    "expData = mat73.loadmat(filePath)\n",
    "expData = expData['CompletedTraces']\n",
    "\n",
    "outPutShape = [256, 256]\n",
    "realM = np.zeros((len(expData), outPutShape[0], outPutShape[0], 1))\n",
    "imM = 1j * np.ones((len(expData), outPutShape[0], outPutShape[0], 1))\n",
    "savedParticles = realM + imM\n",
    "\n",
    "# This loop unpacks and stores all fields found in the processed video in an 3d-array\n",
    "for i in range(len(expData)):\n",
    "\n",
    "    roiData = expData[i]['ROI'][0]\n",
    "    roiData = np.array(roiData)\n",
    "    roiData = roiData[5, :]\n",
    "\n",
    "    fftOfParticle = exp_expand(roiData, outPutShape)\n",
    "    particleROI = np.fft.ifft2(fftOfParticle)\n",
    "    particleROI = np.fft.fftshift(particleROI)\n",
    "    particleROI = np.expand_dims(particleROI, axis = -1)\n",
    "\n",
    "    savedParticles[i, :, :, :] = particleROI\n",
    "    \n",
    "\n",
    "# Example of how a field could look\n",
    "imToShow = np.imag(savedParticles[20, :, :, :]) \n",
    "plt.imshow(imToShow, cmap = \"gray\")\n",
    "plt.show()\n"
   ]
  },
  {
   "cell_type": "code",
   "execution_count": 33,
   "metadata": {},
   "outputs": [],
   "source": [
    "\n",
    "# We'll store every found particle's positions during a trace\n",
    "# in a dictionary with \"Particle i\" as a key \n",
    "particleStr = [\"Particle \"] * len(expData)\n",
    "ind = list(range(len(expData)))\n",
    "\n",
    "particleKey = list(map(lambda l1, l2: l1 + str(l2), particleStr, ind))\n",
    "posVal = []\n",
    "\n",
    "for i in range(len(expData)):\n",
    "    posData = expData[i]['Positions']\n",
    "    posData = np.array(posData)\n",
    "\n",
    "    # Cut away unneccessary columns\n",
    "    posData = posData[:, 0:4]\n",
    "    posVal.append(posData)\n",
    "\n",
    "particlePosData = dict(zip(particleKey, posVal))\n"
   ]
  }
 ],
 "metadata": {
  "interpreter": {
   "hash": "7fecfc3816518f1c85ea654fda2f8cfa484054491f2731f734beff0fa1ef12db"
  },
  "kernelspec": {
   "display_name": "Python 3.9.7 ('neuralNEt')",
   "language": "python",
   "name": "python3"
  },
  "language_info": {
   "codemirror_mode": {
    "name": "ipython",
    "version": 3
   },
   "file_extension": ".py",
   "mimetype": "text/x-python",
   "name": "python",
   "nbconvert_exporter": "python",
   "pygments_lexer": "ipython3",
   "version": "3.9.7"
  },
  "orig_nbformat": 4
 },
 "nbformat": 4,
 "nbformat_minor": 2
}
