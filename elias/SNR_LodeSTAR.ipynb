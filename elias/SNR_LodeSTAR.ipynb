{
  "cells": [
    {
      "cell_type": "code",
      "execution_count": 89,
      "metadata": {
        "collapsed": true,
        "id": "ZXRzLVLHMGa1"
      },
      "outputs": [],
      "source": [
        "\"\"\"Import everything we need\"\"\"\n",
        "already_installed = !pip list -v | grep deeptrack\n",
        "if not already_installed:\n",
        "    !pip install deeptrack==1.0.1\n",
        "    !pip install mat73\n",
        "    !pip install tqdm\n",
        "    !apt install texlive-fonts-recommended texlive-fonts-extra cm-super dvipng\n",
        "    !apt install texlive-science\n",
        "\n",
        "import matplotlib\n",
        "import os\n",
        "import random\n",
        "import mat73\n",
        "import scipy.io\n",
        "import seaborn\n",
        "import numpy as np\n",
        "import tensorflow as tf\n",
        "import matplotlib.pyplot as plt\n",
        "import deeptrack as dt\n",
        "import tensorflow.keras as keras\n",
        "from tensorflow.math import abs, angle, real, imag, subtract, multiply\n",
        "from scipy.special import binom\n",
        "from matplotlib import rc\n",
        "from scipy.stats import chi2, betaprime, norm\n",
        "from scipy.optimize import minimize\n",
        "from matplotlib import colors\n",
        "from cycler import cycler\n",
        "from google.colab import drive\n",
        "from tqdm import tqdm\n",
        "from math import factorial\n",
        "\n",
        "rc('text', usetex=True)\n",
        "matplotlib.rcParams['text.latex.preamble'] = [r'\\usepackage{amsmath}', r'\\usepackage{siunitx}', r'\\usepackage{lipsum}']"
      ]
    },
    {
      "cell_type": "code",
      "execution_count": 90,
      "metadata": {
        "id": "_KSBuroMllya"
      },
      "outputs": [],
      "source": [
        "#@title\n",
        "\"\"\"Import the validation set\"\"\"\n",
        "\"\"\" Function to import used to unpack rows of FFT-field\"\"\"\n",
        "def exp_expand(data,shape=[64,64]):\n",
        "    x = np.arange(shape[0]) - shape[0] / 2\n",
        "    y = np.arange(shape[1]) - shape[1] / 2\n",
        "    X, Y = np.meshgrid(x, y)\n",
        "    bg=np.zeros((shape[0]*shape[1],))+0j\n",
        "    X=np.reshape(np.fft.fftshift(X),(shape[0]*shape[1]))\n",
        "    Y=np.reshape(np.fft.fftshift(Y),(shape[0]*shape[1]))\n",
        "    RHO=X**2+Y**2\n",
        "    Inds=np.argsort(RHO)\n",
        "    Inds=np.sort(Inds[:data.shape[0]])\n",
        "\n",
        "    bg[Inds[:data.shape[0]]]=data\n",
        "    bg=np.reshape(bg,(shape[0],shape[1]))\n",
        "  \n",
        "    return bg"
      ]
    },
    {
      "cell_type": "code",
      "execution_count": 91,
      "metadata": {
        "id": "zGUDvGJRQd0D"
      },
      "outputs": [],
      "source": [
        "#@title\n",
        "def is_arithmetic(l):\n",
        "    for index in range(len(l) - 1):\n",
        "        if not (l[index + 1] - l[index] == 1):\n",
        "            is_arithmetic.counter += 1\n",
        "            return False\n",
        "    return True\n",
        "\n",
        "def extract_pos_and_images(data, shortest_trace=20):\n",
        "    \"\"\"Saves images and positions for individual particles.\"\"\"\n",
        "    is_arithmetic.counter = 0\n",
        "    particles_timeseries = []\n",
        "    particles_positions = []\n",
        "    num_particles = data.shape[1]\n",
        "\n",
        "    for i in tqdm(range(num_particles)):\n",
        "        roi_data = np.array(data[0,i][0,0][\"ROI\"])\n",
        "        if shortest_trace <= roi_data[0,0].shape[0] and is_arithmetic(data[0,i][0,0][\"Positions\"][:,0].flatten()):\n",
        "            positions = data[0,i][0,0][\"Positions\"][:,1:4]\n",
        "            particles_positions.append(positions)\n",
        "\n",
        "            timeseries = []\n",
        "\n",
        "            for j in range(roi_data[0,0].shape[0]):\n",
        "                particleROI = np.expand_dims(np.fft.fftshift(np.fft.ifft2(exp_expand(roi_data[0,0][j,:]))), axis = -1)\n",
        "                timeseries.append(particleROI)\n",
        "            particles_timeseries.append(np.array(timeseries))\n",
        "    print(f\"Number of traces discarded because of non-constant time-steps: {is_arithmetic.counter}\")\n",
        "    return particles_positions, particles_timeseries"
      ]
    },
    {
      "cell_type": "code",
      "execution_count": 92,
      "metadata": {
        "id": "T6Pvy7aWMGa9"
      },
      "outputs": [],
      "source": [
        "def create_group(crop_size=64, padding=16, wavelength=525e-9, pixel_size=114e-9):\n",
        "    crop_propagation_forward = dt.get_propagation_matrix((crop_size + 2 * padding, ) * 2, 1e-7, pixel_size, wavelength)\n",
        "    crop_propagation_backward = dt.get_propagation_matrix((crop_size + 2 * padding, ) * 2, -1e-7, pixel_size, wavelength)\n",
        "\n",
        "    args = dt.Arguments(\n",
        "        translate=lambda: np.random.randn(2)*0.5,\n",
        "        rotate=lambda: np.random.uniform(0, np.pi*2),\n",
        "        z=lambda: np.random.randn(1)*20,\n",
        "    )\n",
        "\n",
        "    group = ( \n",
        "        dt.Affine(rotate=args.rotate) \n",
        "        >> dt.Affine(translate=args.translate) \n",
        "        >> dt.FourierTransform(padding=padding) \n",
        "        >> dt.FourierTransformTransformation(crop_propagation_forward, crop_propagation_backward, args.z, padding=padding) \n",
        "        >> dt.InverseFourierTransform(padding=padding) \n",
        "    )\n",
        "\n",
        "    equivariance = (\n",
        "        dt.models.lodestar.Rotational2DEquivariance(args.rotate)\n",
        "        >> dt.models.lodestar.TranslationalEquivariance(args.translate)\n",
        "        >> dt.models.lodestar.Equivariance(1, args.z/10, indexes=2)\n",
        "    )\n",
        "\n",
        "    return group, equivariance, (crop_propagation_forward, crop_propagation_backward)\n",
        "\n",
        "def create_training_set(particles_timeseries):\n",
        "    imgs = []\n",
        "    for particle_id in range(0,len(particles_timeseries),1):\n",
        "        img = np.stack((np.real(particles_timeseries[particle_id])[:,:,:,0], np.imag(particles_timeseries[particle_id][:,:,:,0])), axis=-1)\n",
        "        img = img[0,:,:,:]\n",
        "        imgs.append(img)\n",
        "    return dt.Value(lambda: random.choice(np.array(imgs)))\n",
        "\n",
        "def plot_dataset(dataset, group, nrows=3, ncols=10):\n",
        "    for _ in range(nrows):\n",
        "        fig, axs = plt.subplots(1,ncols,figsize=(25,8))\n",
        "        for i in range(ncols):\n",
        "          axs[i].imshow((dataset>>group).update()()[..., 1])\n",
        "        plt.show()\n"
      ]
    },
    {
      "cell_type": "code",
      "execution_count": 93,
      "metadata": {
        "id": "rq0XzGTFjmnQ"
      },
      "outputs": [],
      "source": [
        "#@title\n",
        "\"\"\"Create custom layers\"\"\"\n",
        "class CustomLayer(keras.layers.Layer):\n",
        "    \"Takes 2 layers as input and outputs 4 layers.\"\n",
        "    def __init__(self):\n",
        "        super().__init__()\n",
        "\n",
        "    def build( self, input_shape):\n",
        "        super().build(input_shape)\n",
        "\n",
        "    def call(self, image):\n",
        "        image = tf.dtypes.complex(image[...,0], image[...,1])\n",
        "        norm_image = subtract(image, 1)\n",
        "        return tf.stack([abs(norm_image), angle(image), real(norm_image), imag(norm_image)], axis=-1)\n"
      ]
    },
    {
      "cell_type": "code",
      "execution_count": 94,
      "metadata": {
        "collapsed": true,
        "id": "g3v8o4Nk4ZkD"
      },
      "outputs": [],
      "source": [
        "#@title\n",
        "\"\"\"Create models\"\"\"\n",
        "def create_model(custom_layer, num_layers, image_size, num_outputs):\n",
        "    model = keras.models.Sequential()\n",
        "    model.add(keras.Input(shape=(image_size,image_size,2)))\n",
        "    model.add(custom_layer)\n",
        "    model.add(keras.layers.Conv2D(64, 3, activation='relu', strides=(2,2)))\n",
        "    for _ in range(num_layers):\n",
        "        model.add(keras.layers.Conv2D(64, 3, activation='relu'))\n",
        "    model.add(keras.layers.Conv2D(num_outputs+1,1))\n",
        "    \n",
        "    model = dt.models.LodeSTAR(model=model, input_shape=(None, None, 2), num_outputs=num_outputs)\n",
        "    model.specs = {\"Layers\": num_layers}\n",
        "    model.totalhistory = {\"total_loss\":[], \"consistency_loss\":[]}\n",
        "    model.compile(loss=[\"mae\", \"mae\", \"mae\"], optimizer=tf.keras.optimizers.Adam(), loss_weights=[1, 1, 1])\n",
        "    return model\n"
      ]
    },
    {
      "cell_type": "code",
      "execution_count": 95,
      "metadata": {
        "id": "a5cBmiGxwnin"
      },
      "outputs": [],
      "source": [
        "#@title\n",
        "def save_progress(model, h):\n",
        "    model.totalhistory[\"total_loss\"].extend(h.history[\"total_loss\"])\n",
        "    model.totalhistory[\"consistency_loss\"].extend(h.history[\"consistency_loss\"])\n",
        "\n",
        "def plot_progress(models):\n",
        "    def moving_average(x, w):\n",
        "        return np.convolve(x, np.ones(w), 'valid') / w\n",
        "\n",
        "    cc = cycler(color=list('bgrcmyk'))\n",
        "    fig, (ax1, ax2) = plt.subplots(1,2,figsize=(15,6))\n",
        "    ax1.set_prop_cycle(cc)\n",
        "    ax2.set_prop_cycle(cc)\n",
        "\n",
        "    for i, model in enumerate(models):\n",
        "        ax1.plot(moving_average(model.totalhistory[\"total_loss\"], 10), label=f\"{model.specs}\")\n",
        "        ax1.set_xlabel(\"Epochs\")\n",
        "        ax1.set_ylabel(\"Total Loss\")\n",
        "        ax1.set_yscale(\"log\")\n",
        "        ax1.legend()\n",
        "\n",
        "        ax2.plot(moving_average(model.totalhistory[\"consistency_loss\"], 10), label=f\"{model.specs}\")\n",
        "        ax2.set_xlabel(\"Epochs\")\n",
        "        ax2.set_ylabel(\"Consistency loss\")\n",
        "        ax2.set_yscale(\"log\")\n",
        "        ax2.legend()\n",
        "\n",
        "    ax1.grid(True)\n",
        "    ax2.grid(True)\n",
        "    plt.show()\n"
      ]
    },
    {
      "cell_type": "code",
      "execution_count": 96,
      "metadata": {
        "id": "gCedQikgV1qE"
      },
      "outputs": [],
      "source": [
        "#@title\n",
        "def get_propagation_matrix(shape, to_z, pixel_size, wavelength):\n",
        "\n",
        "    k = 2 * np.pi / wavelength\n",
        "    yr, xr, *_ = shape\n",
        "\n",
        "    x = 2 * np.pi / pixel_size * np.arange(-(xr / 2 - 1 / 2), (xr / 2 + 1 / 2), 1) / xr\n",
        "    y = 2 * np.pi / pixel_size * np.arange(-(yr / 2 - 1 / 2), (yr / 2 + 1 / 2), 1) / yr\n",
        "    KXk, KYk = np.meshgrid(x, y)\n",
        "\n",
        "    K = np.real(\n",
        "        np.sqrt(np.array(1 - (KXk / k) ** 2 - (KYk / k) ** 2, dtype=np.complex64))\n",
        "    )\n",
        "    C = np.fft.fftshift(((KXk / k) ** 2 + (KYk / k) ** 2 < 1) * 1.0)\n",
        "\n",
        "    return C * np.fft.fftshift(np.exp(k * 1j * to_z * (K - 1)))\n",
        "\n",
        "def fourier_transform(image, padding=32):\n",
        "    im = np.pad(image, ((padding, padding), (padding, padding)), mode=\"symmetric\")\n",
        "    return np.fft.fft2(im)\n",
        "\n",
        "def inverse_fourier_transform(image, padding=32):\n",
        "    im = np.fft.ifft2(image)\n",
        "    return im[padding:-padding, padding:-padding]\n",
        "\n",
        "def fourier_transform_transformation(image, Tz, Tzinv, i):\n",
        "    if i < 0:\n",
        "        image *= Tzinv ** np.abs(i)\n",
        "    else:\n",
        "        image *= Tz ** i\n",
        "    return image\n",
        "\n",
        "def propagate(image, z, prop_matrices, padding):\n",
        "    \"\"\"Re-propagate the images using PAS\"\"\"\n",
        "    crop_propagation_forward, crop_propagation_backward = prop_matrices\n",
        "    ft_image = fourier_transform(image[:,:,0], padding=padding)\n",
        "    prop_ft_image = fourier_transform_transformation(ft_image, crop_propagation_backward, crop_propagation_forward, -z)\n",
        "    return np.expand_dims(inverse_fourier_transform(prop_ft_image, padding=padding),axis=-1)"
      ]
    },
    {
      "cell_type": "code",
      "execution_count": 97,
      "metadata": {
        "id": "-Pi0le2CzY6q"
      },
      "outputs": [],
      "source": [
        "#@title\n",
        "def predict_on_stack(model, val_stack):\n",
        "    \"\"\"returns a numpy tensor containing propagated distance as well as the prediction, for ever propagation distance and every image images\"\"\"\n",
        "    try:\n",
        "        dets = np.array(model.predict_and_detect(val_stack, mode=\"ratio\"))\n",
        "    except ValueError as E:\n",
        "        dets = np.expand_dims(np.zeros((val_stack.shape[0],3)), axis=0)\n",
        "        print(E)\n",
        "    dets = reshape_dets(dets, val_stack.shape[2])\n",
        "    return dets\n",
        "\n",
        "def reshape_dets(dets, image_size):\n",
        "    \"\"\"Removes all particles but the one closest to the center. If no particles are detected, sets the value to 0.\"\"\"\n",
        "    out = []\n",
        "    for coords in dets:\n",
        "        if coords.shape != (0, 3):\n",
        "            x, y = image_size//2, image_size//2\n",
        "            idx = np.argmin(np.array(coords[:,:2]- np.array((x, y))), axis=0)[0]\n",
        "            out.append(coords[idx,:])\n",
        "        else:\n",
        "            print(\"DID NOT FIND AND PARTICLE IN IMAGE; ADDING [0,0,0] AS CORRECTION.\")\n",
        "            out.append([0,0,0])\n",
        "    return np.array(out)\n",
        "\n",
        "def create_validation_stack(images, z_list, prop_matrices, padding):\n",
        "    output = []\n",
        "    for i in range(images.shape[0]):\n",
        "        image = images[i,:,:,:]\n",
        "        stack = []\n",
        "        for z in z_list:\n",
        "            stack.append(propagate(image, z, prop_matrices, padding))\n",
        "        output.append(stack)\n",
        "    return np.stack((np.real(output), np.imag(output)), axis=-1)[:,:,:,:,0,:]\n",
        "\n",
        "def evaluate_model(model, val_stack, prop_range):\n",
        "    accs=[]\n",
        "    for i in range(min(val_stack.shape[0], 15)):\n",
        "        acc = np.array([predict_on_stack(model, val_stack[i])[:,2]])\n",
        "        acc = acc - np.mean(acc)\n",
        "        accs.append(acc)\n",
        "    accs = np.array(accs)\n",
        "\n",
        "    fig, axs = plt.subplots(1,2, figsize=(16,6))\n",
        "    for i in range(accs.shape[0]):\n",
        "        axs[0].plot(prop_range/10, prop_range/10, 'k')\n",
        "        axs[0].plot(accs[i,:].flatten(), prop_range/10, '-.')\n",
        "        axs[0].set_title(\"Numeriskt ompropagerade bilder\", fontsize=20)\n",
        "        axs[0].set_xlabel(r\"Predikterat avstånd [\\SI{}{\\micro\\meter}]\", fontsize=16)\n",
        "        axs[0].set_ylabel(r\"Propagerat avstånd [\\SI{}{\\micro\\meter}]\", fontsize=16)\n",
        "        axs[0].set_xticks(np.linspace(prop_range[0], prop_range[-1], 9)/10)\n",
        "        axs[0].set_yticks(np.linspace(prop_range[0], prop_range[-1], 9)/10)\n",
        "        axs[0].grid(True)\n",
        "\n",
        "    for i in range(accs.shape[-1]):\n",
        "        axs[1].scatter((prop_range/10)[i], np.std(accs[:,:,i]), c=\"r\", marker=\"x\")\n",
        "        axs[1].set_title(\"Numeriskt ompropagerade bilder\", fontsize=20)\n",
        "        axs[1].set_ylabel(r\"Standardavvikelse i predikterat avstånd [\\SI{}{\\micro\\meter}]\", fontsize=16)\n",
        "        axs[1].set_xlabel(r\"Propagerat avstånd [\\SI{}{\\micro\\meter}]\", fontsize=16)\n",
        "        axs[1].set_xticks(np.linspace(prop_range[0], prop_range[-1], 9)/10)\n",
        "        axs[1].grid(True)\n",
        "    plt.savefig(\"validering.png\", pad_inches=0, bbox_inches='tight')\n",
        "    plt.show()\n",
        "\n",
        "\n",
        "def plot_consistency(model, validation_set, prop_range, prop_matrices, padding):\n",
        "    val_stack = create_validation_stack(validation_set, prop_range, prop_matrices, padding)\n",
        "    evaluate_model(model, val_stack, prop_range)"
      ]
    },
    {
      "cell_type": "code",
      "execution_count": 98,
      "metadata": {
        "id": "O-M2iXSlq8GD"
      },
      "outputs": [],
      "source": [
        "#@title\n",
        "def calc_sigma2(arr):\n",
        "    sigma2 = -np.mean(\n",
        "        np.multiply(\n",
        "            np.diff(arr[:-1]), \n",
        "            np.diff(arr[1:])\n",
        "            ))\n",
        "    return sigma2"
      ]
    },
    {
      "cell_type": "code",
      "execution_count": 99,
      "metadata": {
        "id": "4U49X9dl5Uqx"
      },
      "outputs": [],
      "source": [
        "def train_on_particle(model, particle, num_outputs, group, equivariance, epochs, verbose=0):\n",
        "    training_set = create_training_set(particle)\n",
        "\n",
        "    generator = dt.models.lodestar.LodeSTARGenerator(\n",
        "        training_set,\n",
        "        num_outputs=num_outputs, \n",
        "        transformation_function=(group, equivariance), \n",
        "        batch_size=8, \n",
        "        min_data_size=100, \n",
        "        max_data_size=101,\n",
        "    )\n",
        "\n",
        "    const = 10\n",
        "    progress = [] \n",
        "    for _ in tqdm(range(epochs//const)):\n",
        "        with generator:\n",
        "            h = model.fit(generator, epochs=const, steps_per_epoch=100, verbose=verbose)\n",
        "            progress.extend(h.history[\"total_loss\"])\n",
        "            fig, ax = plt.subplots(1,1,figsize=(8,6))\n",
        "            ax.plot(progress)\n",
        "            ax.grid(True)\n",
        "            ax.set_ylim([0, max(progress)+0.5])\n",
        "            ax.set_ylabel(r\"Total loss\", fontsize=16)\n",
        "            ax.set_xlabel(r\"Epok\", fontsize=16)\n",
        "            ax.set_title(\"träning... etc\", fontsize=20)\n",
        "            ax.legend(\"Train\")\n",
        "            plt.savefig(\"training_progress.png\", pad_inches=0, bbox_inches='tight')\n",
        "            plt.show()\n",
        "\n",
        "\n",
        "def compare_lode_matlab(model, particles, particles_positions,  verbose=1):\n",
        "    z_mults = []\n",
        "    traces_matlab = []\n",
        "    traces_new = []\n",
        "    diff_x_z = []\n",
        "    diff_x = []\n",
        "    diff_z = []\n",
        "\n",
        "    for particle_id in tqdm(range(len(particles))):\n",
        "\n",
        "        timeseries = np.stack((np.real(particles[particle_id][:,:,:,0]), np.imag(particles[particle_id][:,:,:,0])), axis=-1)\n",
        "        corrections = predict_on_stack(model, timeseries)\n",
        "\n",
        "        x_lode, y_lode, z_lode = corrections[:,0], corrections[:,1], corrections[:,2]\n",
        "        x_matlab, y_matlab, z_matlab = particles_positions[particle_id][:,0], particles_positions[particle_id][:,1], particles_positions[particle_id][:,2]*1.45 #(633/525)**2 eftersom 633 är hårdkodat i matlab\n",
        "\n",
        "        z_lode = z_lode - np.mean(z_lode)\n",
        "        x_new, y_new, z_new = x_matlab+(x_lode-32)*0.114, y_matlab+(y_lode-32)*0.114, z_matlab+z_lode # byt ut mot pixel_sizez!\n",
        "\n",
        "        z_mult = minimize(lambda x: np.abs(calc_sigma2(z_matlab + z_lode*x)), [0], method=\"Powell\").x\n",
        "\n",
        "        if verbose:\n",
        "            #print(\"PARTICLE ID:\", particle_id, end=\"  \")\n",
        "            #print(f\"z_mult: {z_mult:.3f}, sigma2_new/sigma2_matlab: {calc_sigma2(z_new)/calc_sigma2(z_matlab):.2f}\")\n",
        "\n",
        "            if particle_id%300==0:\n",
        "                fig, (ax1, ax2, ax3) = plt.subplots(1,3,figsize=(24,6))\n",
        "\n",
        "                fig.suptitle('Uppskattade partikelbanor', fontsize=20)\n",
        "                t_range = np.linspace(0, len(z_new)/41, len(z_new))\n",
        "                ax1.grid(True)\n",
        "                ax1.set_ylabel(r\"x-koordinat [\\SI{}{\\micro\\meter}]\", fontsize=16)\n",
        "                ax1.set_xlabel(r\"Tid [\\SI{}{\\second}]\", fontsize=16)\n",
        "                ax1.plot(t_range, x_matlab, 'b')\n",
        "                ax1.plot(t_range, x_new, 'r')\n",
        "\n",
        "                ax2.grid(True)\n",
        "                ax2.set_ylabel(r\"y-koordinat [\\SI{}{\\micro\\meter}]\", fontsize=16)\n",
        "                ax2.set_xlabel(r\"Tid [\\SI{}{\\second}]\", fontsize=16)\n",
        "                ax2.plot(t_range, y_matlab, 'b')\n",
        "                ax2.plot(t_range, y_new, 'r')\n",
        "                ax2.legend([\"matlab\", \"lode\"])\n",
        "\n",
        "                ax3.grid(True)\n",
        "                ax3.set_ylabel(r\"z-koordinat [\\SI{}{\\micro\\meter}]\", fontsize=16)\n",
        "                ax3.set_xlabel(r\"Tid [\\SI{}{\\second}]\", fontsize=16)\n",
        "                ax3.plot(t_range, z_matlab, 'b')\n",
        "                ax3.plot(t_range, z_new, 'r')\n",
        "                plt.savefig(f\"partikel_{particle_id}.png\", pad_inches=0, bbox_inches='tight')\n",
        "                plt.show()\n",
        "\n",
        "        diff_x_z.append(np.abs(x_matlab[0]-x_matlab[-1])/(np.abs(z_matlab[0]-z_matlab[-1])))\n",
        "        z_mults.append(z_mult)\n",
        "        traces_matlab.append(np.array([x_matlab, y_matlab, z_matlab]))\n",
        "        traces_new.append(np.array([x_matlab, y_matlab, z_new])) # note x and y matlab!!\n",
        "\n",
        "    mult = 1/np.median(z_mults)\n",
        "    mult = 1\n",
        "    #print(f\"Optimal mult.faktor: {mult}\")\n",
        "    for i in range(len(traces_matlab)):\n",
        "        traces_new[i][2,:] = (traces_new[i][2,:]-traces_matlab[i][2,:]) + traces_matlab[i][2,:]*mult\n",
        "        traces_matlab[i][2,:] = traces_matlab[i][2,:]*mult\n",
        "    return traces_matlab, traces_new, z_mults"
      ]
    },
    {
      "cell_type": "code",
      "execution_count": 100,
      "metadata": {
        "id": "nPZWgA3yv7zM"
      },
      "outputs": [],
      "source": [
        "def plot_diffusion(Dx, Dz, colors, title, xlabel):\n",
        "    range=(-0.5,3*np.median(np.array([Dx, Dz])))\n",
        "    nbins=30\n",
        "    fig, ax = plt.subplots(1, 1, figsize=(8, 6))\n",
        "    ax.hist(Dx, nbins, alpha=0.5, range=range, facecolor=seaborn.color_palette(\"colorblind\")[colors[0]], label=\"In-plane diffusion\", edgecolor='grey')\n",
        "    ax.hist(Dz, nbins, alpha=0.5, range=range, facecolor=seaborn.color_palette(\"colorblind\")[colors[1]], label=\"Vertical diffusion\", edgecolor='grey')\n",
        "    #ax.axvline(np.median(Dx), c=seaborn.color_palette(\"colorblind\")[colors[0]], linestyle=\"--\", label=\"Median\")\n",
        "    #ax.axvline(np.median(Dz), c=seaborn.color_palette(\"colorblind\")[colors[1]], linestyle=\"--\", label=\"Median\")\n",
        "    ax.set_ylabel(\"Frekvens\", fontsize=16)\n",
        "    ax.set_xlabel(xlabel, fontsize=16)\n",
        "    ax.set_title(title, fontsize=20)\n",
        "    ax.legend()\n",
        "    plt.savefig(\"dist.png\", pad_inches=0, bbox_inches='tight')\n",
        "    plt.show()\n",
        "\n",
        "def plot_ratio(Dx, Dz):\n",
        "    Dz, Dx = np.array(Dz), np.array(Dx)\n",
        "    ratio = Dz/Dx\n",
        "    ratio[ratio<0] = 0\n",
        "    range=(0,3*np.median(Dz/Dx))\n",
        "    nbins=30\n",
        "    lowlim, highlim = confint(Dz, Dx)\n",
        "    fig, (ax1, ax2) = plt.subplots(1, 2, figsize=(16, 6))\n",
        "\n",
        "    ax1.hist(ratio, nbins, alpha=0.5, range=range, facecolor=\"blue\", edgecolor='grey')\n",
        "    ax1.axvline(lowlim, c=\"black\", linestyle=\"--\", label=\"Undre gräns\")\n",
        "    ax1.axvline(highlim, c=\"black\", linestyle=\"--\", label=\"Övre gräns\")\n",
        "    ax1.set_ylabel(\"Frekvens\", fontsize=16)\n",
        "    ax1.set_title(r\"Distribution av ratio mellan $D_\\text{z}$ och $D_\\text{x}$\", fontsize=20)\n",
        "    ax1.set_xlabel(r\"$D_\\text{z}/D_\\text{x}$\", fontsize=20)\n",
        "    ax1.legend()\n",
        "\n",
        "    ax2.hist(np.sqrt(ratio), nbins, alpha=0.5, range=range, facecolor=\"blue\", edgecolor='grey')\n",
        "    ax2.axvline(np.sqrt(lowlim), c=\"black\", linestyle=\"--\", label=\"Undre gräns\")\n",
        "    ax2.axvline(np.sqrt(highlim), c=\"black\", linestyle=\"--\", label=\"Övre gräns\")\n",
        "    ax2.set_ylabel(\"Frekvens\", fontsize=16)\n",
        "    ax2.set_title(r\"Distribution av ratio mellan $n_\\text{z}$ och $n_\\text{x}$\", fontsize=20)\n",
        "    ax2.set_xlabel(r\"$n_\\text{z}/n_\\text{x}$\", fontsize=20)\n",
        "    ax2.legend()\n",
        "    plt.savefig(\"kvot_dist.png\", pad_inches=0, bbox_inches='tight')\n",
        "    plt.show()\n",
        "\n",
        "def plot_n(Dx, Dz):\n",
        "    Dz, Dx = np.array(Dz), np.array(Dx)\n",
        "    ratio = Dz/Dx\n",
        "    ratio[ratio<0] = 0\n",
        "    range=(0,3*np.median(Dz/Dx))\n",
        "    nbins=30\n",
        "    lowlim, highlim = confint(Dz, Dx)\n",
        "    highlim, lowlim = 1.5/np.sqrt(lowlim), 1.5/np.sqrt(highlim)\n",
        "    fig, ax1 = plt.subplots(1, 1, figsize=(8, 6))\n",
        "\n",
        "    print(f\"brytningsindex-intervall: ({lowlim:.4f}, {highlim:.4f})\")\n",
        "    ax1.hist(1.5/np.sqrt(ratio), nbins, alpha=0.5, range=range, facecolor=\"blue\", edgecolor='grey')\n",
        "    ax1.axvline(lowlim, c=\"black\", linestyle=\"--\", label=\"Undre gräns\")\n",
        "    ax1.axvline(highlim, c=\"black\", linestyle=\"--\", label=\"Övre gräns\")\n",
        "    ax1.set_ylabel(\"Frekvens\", fontsize=16)\n",
        "    ax1.set_title(r\"Brytningindex n\", fontsize=20)\n",
        "    ax1.set_xlabel(r\"TBA\", fontsize=20)\n",
        "    ax1.legend()\n",
        "    plt.savefig(\"brytningsindex.png\", pad_inches=0, bbox_inches='tight')\n",
        "    plt.show()\n",
        "\n",
        "\n",
        "def calculate_diffusion(traces, delta_time, shortest_trace=20, conf=0.99):\n",
        "    \"\"\"\n",
        "    Takes a list of traces with x,y and z-positions. Returns estiamtes of the\n",
        "    diffusion constant in the x and z-directions.\n",
        "\n",
        "    Theory:\n",
        "    https://sci-hub.hkvisa.net/10.1103/PhysRevE.89.022726\n",
        "    \"\"\"\n",
        "    _traces = [trace for trace in traces if trace.shape[1]>shortest_trace]\n",
        "\n",
        "    sigma_x2 = np.array([calc_sigma2(trace[0,:]) for trace in _traces])\n",
        "    sigma_z2 = np.array([calc_sigma2(trace[2,:]) for trace in _traces])\n",
        "    print(f\"Median av sigma_z^2: {np.median(sigma_z2)}\")\n",
        "\n",
        "    D_x, D_z = [], []\n",
        "    for i, pos in enumerate(_traces):\n",
        "      D_x.append((\n",
        "          np.mean(np.diff(pos[0,:])**2)\n",
        "          -2*sigma_x2[i])\n",
        "          /(2*delta_time)\n",
        "          )\n",
        "      D_z.append((\n",
        "          np.mean(np.diff(pos[2,:])**2)\n",
        "          -2*sigma_z2[i])\n",
        "          /(2*delta_time)\n",
        "          )\n",
        "      plt.scatter(sigma_z2[i], D_z[i])\n",
        "    plt.show()\n",
        "    print(f\"MEDIAN AV D_x: {np.median(D_x)}\")\n",
        "\n",
        "    plot_diffusion(D_x, D_z, (9,3), \"Diffusionskonstanter tangentiellt och parallellt med kameraplanet\", r\"$D_\\text{x}$ och $D_\\text{z}$ [\\SI{}{\\micro\\meter^2\\second^{-1}}]\")\n",
        "    plot_ratio(D_x, D_z)\n",
        "    plot_n(D_x, D_z)\n",
        "    low, high = confint(D_z, D_x, conf=conf)\n",
        "    #print(f\"nz/nx interval: ({np.sqrt(low):.3f}, {np.sqrt(high):.3f}) ({conf*100}%)\")\n",
        "\n",
        "def confint(Dz, Dx, conf=0.99):\n",
        "    \"\"\"\n",
        "    Takes diffusion constants Dz and Dx as numpy arrays.\n",
        "    Returns confidence interval for median(Dz)/median(Dx) where significance is defined by conf.\n",
        "\n",
        "    Theory:\n",
        "    https://sci-hub.hkvisa.net/10.3102/1076998620934125 page 5-6\n",
        "    \"\"\"\n",
        "    Dz, Dx, n = sorted(Dz), sorted(Dx), len(Dz)\n",
        "    o1 = round(n/2-np.sqrt(n))\n",
        "    o2 = n+1-round(n/2-np.sqrt(n))\n",
        "    alpha_2 = 0.5**n*sum([binom(n,i) for i in range(o1)])\n",
        "    z = norm.ppf(1-alpha_2)\n",
        "\n",
        "    var_z = ((Dz[o2]-Dz[o1])/(2*z))**2\n",
        "    var_x = ((Dx[o2]-Dx[o1])/(2*z))**2\n",
        "    theta = np.median(np.median(Dz)/np.median(Dx))\n",
        "\n",
        "    ln = np.log(theta)\n",
        "    pm = norm.ppf(0.5+conf/2)*np.sqrt(var_z/np.median(Dz)**2+var_x/np.median(Dx)**2)\n",
        "    return np.exp(ln-pm), np.exp(ln+pm)\n"
      ]
    },
    {
      "cell_type": "code",
      "source": [
        "#@title\n",
        "\n",
        "def trim(dx, dz, c=1/50):\n",
        "    dx, dz = np.array(dx), np.array(dz)\n",
        "    dx = dx[dz.argsort()][round(len(dz)*c):-round(len(dz)*c)]\n",
        "    dz = np.sort(dz)[round(len(dz)*c):-round(len(dz)*c)]\n",
        "    return (dx,dz)\n",
        "\n",
        "def f(Da, Db):\n",
        "    return 1/(len(Da)*(len(Da)-1))*sum([ (Da[i]-np.mean(Da))*(Db[i]-np.mean(Db)) for i in range(len(Da)) ])"
      ],
      "metadata": {
        "id": "cfdAXHCy6pie"
      },
      "execution_count": 101,
      "outputs": []
    },
    {
      "cell_type": "code",
      "execution_count": 102,
      "metadata": {
        "id": "pwU83ZnV9xN9"
      },
      "outputs": [],
      "source": [
        "#@title\n",
        "def save_weights(path, model):\n",
        "    model.save_weights(path)\n",
        "\n",
        "def load_weights(path, model):\n",
        "    model.load_weights(path)\n",
        "    return model\n",
        "\n",
        "def concatenate_files(path, filenames): #concatenates files pair-wise\n",
        "    files = []\n",
        "    for idx in range(0, len(filenames), 2):\n",
        "        print(f\"Joining {filenames[idx]} with {filenames[idx+1]}\")\n",
        "        first_file = scipy.io.loadmat(path + filenames[idx])['CompletedTraces']\n",
        "        second_file = scipy.io.loadmat(path + filenames[idx+1])['CompletedTraces']\n",
        "        new_file=np.concatenate((first_file, second_file), axis=1)\n",
        "        files.append(new_file)\n",
        "    return files"
      ]
    },
    {
      "cell_type": "code",
      "execution_count": 103,
      "metadata": {
        "colab": {
          "base_uri": "https://localhost:8080/"
        },
        "id": "epj5U8pC6rB_",
        "outputId": "1d8f28f3-a1e9-49e7-9d3b-13f4d0997871"
      },
      "outputs": [
        {
          "output_type": "stream",
          "name": "stdout",
          "text": [
            "Drive already mounted at /content/drive; to attempt to forcibly remount, call drive.mount(\"/content/drive\", force_remount=True).\n",
            "Wed May  4 13:51:54 2022       \n",
            "+-----------------------------------------------------------------------------+\n",
            "| NVIDIA-SMI 460.32.03    Driver Version: 460.32.03    CUDA Version: 11.2     |\n",
            "|-------------------------------+----------------------+----------------------+\n",
            "| GPU  Name        Persistence-M| Bus-Id        Disp.A | Volatile Uncorr. ECC |\n",
            "| Fan  Temp  Perf  Pwr:Usage/Cap|         Memory-Usage | GPU-Util  Compute M. |\n",
            "|                               |                      |               MIG M. |\n",
            "|===============================+======================+======================|\n",
            "|   0  Tesla T4            Off  | 00000000:00:04.0 Off |                    0 |\n",
            "| N/A   59C    P0    29W /  70W |   1030MiB / 15109MiB |      0%      Default |\n",
            "|                               |                      |                  N/A |\n",
            "+-------------------------------+----------------------+----------------------+\n",
            "                                                                               \n",
            "+-----------------------------------------------------------------------------+\n",
            "| Processes:                                                                  |\n",
            "|  GPU   GI   CI        PID   Type   Process name                  GPU Memory |\n",
            "|        ID   ID                                                   Usage      |\n",
            "|=============================================================================|\n",
            "+-----------------------------------------------------------------------------+\n",
            "WEIGHTS LOADED\n",
            "Joined 0wtGlycerol_300nmSilica_wGold_1_3msExp_41fpsEvery1_1_movie_1.aviCompletedTraces.mat with 0wtGlycerol_300nmSilica_wGold_1_3msExp_41fpsEvery1_1_movie_1.aviCompletedTraces0.mat\n",
            "Loading file: 0wtGlycerol_300nmSilica_wGold_1_3msExp_41fpsEvery1_1_movie_1.aviCompletedTraces0.mat "
          ]
        },
        {
          "output_type": "stream",
          "name": "stderr",
          "text": [
            "100%|██████████| 1547/1547 [00:00<00:00, 8394.01it/s]"
          ]
        },
        {
          "output_type": "stream",
          "name": "stdout",
          "text": [
            "Number of traces discarded because of non-constant time-steps: 1\n"
          ]
        },
        {
          "output_type": "stream",
          "name": "stderr",
          "text": [
            "\n"
          ]
        },
        {
          "output_type": "stream",
          "name": "stdout",
          "text": [
            "0\n",
            "1\n",
            "2\n",
            "3\n",
            "4\n",
            "5\n",
            "6\n",
            "7\n",
            "8\n",
            "9\n",
            "10\n",
            "11\n",
            "12\n",
            "13\n",
            "14\n",
            "15\n",
            "16\n",
            "17\n",
            "18\n",
            "19\n"
          ]
        }
      ],
      "source": [
        "#http://edge.rit.edu/edge/P13051/public/Research%20Notes/refractive%20index%20glycerin%20water.pdf\n",
        "\n",
        "%matplotlib inline\n",
        "\n",
        "drive.mount('/content/drive')\n",
        "\n",
        "gpu_info = !nvidia-smi\n",
        "gpu_info = '\\n'.join(gpu_info)    \n",
        "if gpu_info.find('failed') >= 0:\n",
        "  print('Not connected to a GPU')\n",
        "else:\n",
        "  print(gpu_info)\n",
        "\n",
        "\n",
        "weights_path = \"/content/drive/My Drive/saved_weights/\"\n",
        "data_path = \"/content/drive/My Drive/twilight_datasets/\"\n",
        "crop_size = 64\n",
        "padding = 32\n",
        "wavelength = 525e-9\n",
        "pixel_size = 114e-9\n",
        "num_outputs = 3\n",
        "image_size = 64\n",
        "delta_time = 1/41\n",
        "num_layers = 7\n",
        "shortest_trace = 180\n",
        "epochs_to_train = 50\n",
        "validation_ids = [0]\n",
        "conf=0.99\n",
        "\n",
        "filenames = !ls \"/content/drive/My Drive/twilight_datasets/\"\n",
        "filenames = sorted([filename for filename in filenames if (\".mat\" in filename) and (\"wGold\" in filename)])\n",
        "\n",
        "try:\n",
        "    model = load_weights(weights_path+\"/\"+str(num_layers), create_model(CustomLayer(), num_layers, image_size, num_outputs))\n",
        "    print(\"WEIGHTS LOADED\")\n",
        "    train_flag = False\n",
        "except:\n",
        "    model = create_model(CustomLayer(), num_layers, image_size, num_outputs)\n",
        "    print(\"WEIGHTS NOT LOADED, NEW MODEL CREATED\")\n",
        "    train_flag = True\n",
        "\n",
        "current_file_index = 0\n",
        "while current_file_index < len(filenames):\n",
        "    file = scipy.io.loadmat(data_path + filenames[current_file_index])['CompletedTraces']\n",
        "\n",
        "    i=1\n",
        "    while current_file_index+i<len(filenames) and filenames[current_file_index][:50] in filenames[current_file_index+i]:\n",
        "        second_file = scipy.io.loadmat(data_path + filenames[current_file_index+i])['CompletedTraces']\n",
        "        file=np.concatenate((file, second_file), axis=1)\n",
        "        print(f\"Joined {filenames[current_file_index]} with {filenames[current_file_index+i]}\")\n",
        "        i+=1\n",
        "    current_file_index +=i\n",
        "\n",
        "    #file = file[:,:200]\n",
        "    print(f\"Loading file: {filenames[current_file_index-1]}\", end=\" \")\n",
        "    particles_positions, particles_timeseries = extract_pos_and_images(file, shortest_trace=shortest_trace)\n",
        "\n",
        "    group, equivariance, prop_matrices = create_group(crop_size=crop_size, padding=padding, wavelength=wavelength, pixel_size=pixel_size)\n",
        "    #plot_dataset(create_training_set(particles_timeseries), group, nrows=2)\n",
        "    break\n",
        "\n",
        "snrs, sigmas = [], []\n",
        "ALL_USED_DATA = []\n",
        "for id in range(20):#range(len(particles_timeseries)):\n",
        "  print(id)\n",
        "  chosen_trace = particles_timeseries[0]\n",
        "\n",
        "  x = np.arange(image_size) - image_size/2\n",
        "  y = np.arange(image_size) - image_size/2\n",
        "  X, Y = np.meshgrid(x,y)\n",
        "  RHO = np.sqrt(X**2 + Y**2)\n",
        "  steps=10\n",
        "  noisy_sets = []\n",
        "  for i in range(steps):\n",
        "    noisy_set=[]\n",
        "    for img in chosen_trace:\n",
        "      fft_img = np.fft.fftshift(np.fft.fft2(img[..., 0]))\n",
        "      tmp = (1*np.random.randn(64, 64) + 1j * np.random.randn(64, 64))*i**2\n",
        "      tmp[RHO>=11]= 0\n",
        "      noisy_set.append(np.fft.ifft2(np.fft.ifftshift(fft_img+tmp)))\n",
        "    noisy_sets.append(noisy_set)\n",
        "\n",
        "  noisy_sets = np.array(noisy_sets)\n",
        "  noisy_sets = np.moveaxis(noisy_sets, [0,1,2,3], [3,0,1,2])\n",
        "  ALL_USED_DATA.append(noisy_sets)\n",
        "  \n",
        "ALL_USED_DATA = np.array(ALL_USED_DATA)"
      ]
    },
    {
      "cell_type": "code",
      "source": [
        "#np.save(\"/content/drive/My Drive/SNR/snr_data.npy\", ALL_USED_DATA)\n",
        "#AXIS 0: ITERATION, AXIS 1: BILDNUMMER I TRACE, AXIS 2&3: 64x64 FÄLTBILD, AXIS 4: BRUSNIVÅ, INDEX 0 LÄGST\n",
        "\n",
        "from google.colab import files\n",
        "#files.download('submission111111.csv')\n",
        "files.download(\"/content/drive/My Drive/SNR/snr_data.npy\") "
      ],
      "metadata": {
        "colab": {
          "base_uri": "https://localhost:8080/",
          "height": 34
        },
        "id": "e8Ri7MyxI1T5",
        "outputId": "57ee8486-6c9c-4870-b86e-63766c992825"
      },
      "execution_count": 110,
      "outputs": [
        {
          "output_type": "display_data",
          "data": {
            "text/plain": [
              "<IPython.core.display.Javascript object>"
            ],
            "application/javascript": [
              "\n",
              "    async function download(id, filename, size) {\n",
              "      if (!google.colab.kernel.accessAllowed) {\n",
              "        return;\n",
              "      }\n",
              "      const div = document.createElement('div');\n",
              "      const label = document.createElement('label');\n",
              "      label.textContent = `Downloading \"${filename}\": `;\n",
              "      div.appendChild(label);\n",
              "      const progress = document.createElement('progress');\n",
              "      progress.max = size;\n",
              "      div.appendChild(progress);\n",
              "      document.body.appendChild(div);\n",
              "\n",
              "      const buffers = [];\n",
              "      let downloaded = 0;\n",
              "\n",
              "      const channel = await google.colab.kernel.comms.open(id);\n",
              "      // Send a message to notify the kernel that we're ready.\n",
              "      channel.send({})\n",
              "\n",
              "      for await (const message of channel.messages) {\n",
              "        // Send a message to notify the kernel that we're ready.\n",
              "        channel.send({})\n",
              "        if (message.buffers) {\n",
              "          for (const buffer of message.buffers) {\n",
              "            buffers.push(buffer);\n",
              "            downloaded += buffer.byteLength;\n",
              "            progress.value = downloaded;\n",
              "          }\n",
              "        }\n",
              "      }\n",
              "      const blob = new Blob(buffers, {type: 'application/binary'});\n",
              "      const a = document.createElement('a');\n",
              "      a.href = window.URL.createObjectURL(blob);\n",
              "      a.download = filename;\n",
              "      div.appendChild(a);\n",
              "      a.click();\n",
              "      div.remove();\n",
              "    }\n",
              "  "
            ]
          },
          "metadata": {}
        },
        {
          "output_type": "display_data",
          "data": {
            "text/plain": [
              "<IPython.core.display.Javascript object>"
            ],
            "application/javascript": [
              "download(\"download_937d1ff4-483c-4166-ae34-4e172d268fd0\", \"snr_data.npy\", 2385510528)"
            ]
          },
          "metadata": {}
        }
      ]
    },
    {
      "cell_type": "code",
      "source": [
        "noise_data = np.load(\"/content/drive/My Drive/SNR/snr_data.npy\")\n",
        "print(noise_data.shape)\n",
        "sigmas = []\n",
        "snrs = []\n",
        "for i in range(noise_data.shape[0]):\n",
        "  noisy_sets = noise_data[i,...]\n",
        "  particle_id = 0\n",
        "  snr = []\n",
        "  sigma = []  \n",
        "  print(noisy_sets.shape)\n",
        "  for step in range(noisy_sets.shape[-1]):\n",
        "      print(step)\n",
        "      current_set = noisy_sets[:,:,:,step:step+1]\n",
        "      mean_image = np.array([np.mean(current_set, axis=0) for i in range(current_set.shape[0])])\n",
        "\n",
        "      signal = np.sum(np.abs(mean_image[0,:,:,0]))\n",
        "      noise_and_signal = np.sum(np.abs(current_set[0,:,:,0]))\n",
        "      noise = noise_and_signal - signal\n",
        "\n",
        "      traces_matlab, traces_lode, z_mults = compare_lode_matlab(model, [current_set], [particles_positions[particle_id]], verbose=0)\n",
        "      sigma2 = calc_sigma2(traces_lode[0][2])\n",
        "\n",
        "      snr.append(signal/noise)\n",
        "      sigma.append(np.sqrt(sigma2))\n",
        "\n",
        "  snrs.append(snr)\n",
        "  sigmas.append(sigma)\n",
        "\n",
        "  y = np.mean(np.array(sigmas), axis=0)\n",
        "  yerr = np.std(np.array(sigmas), axis=0)\n",
        "  x = np.median(np.array(snrs), axis=0)\n",
        "\n",
        "  #ax.errorbar(x,y,yerr=yerr,alpha=1)\n",
        "  fig, ax = plt.subplots(1,1,figsize=(8,6))\n",
        "  ax.fill_between(x, y-2*yerr, y+2*yerr, alpha=0.5)\n",
        "  ax.plot(snr, sigma, 'k-.')\n",
        "  ax.grid(True)\n",
        "  ax.set_xlabel(\"SNR\")\n",
        "  ax.set_ylabel(\"Sigma\")\n",
        "  #ax.set_ylim([0,3])\n",
        "  #ax.set_xlim([0,3])\n",
        "\n",
        "  plt.show()\n"
      ],
      "metadata": {
        "colab": {
          "base_uri": "https://localhost:8080/",
          "height": 1000
        },
        "id": "1RcWYbT8HnQy",
        "outputId": "03bd9426-7c16-4aee-b684-01d89f7d9106"
      },
      "execution_count": 105,
      "outputs": [
        {
          "output_type": "stream",
          "name": "stdout",
          "text": [
            "(20, 182, 64, 64, 10)\n",
            "(182, 64, 64, 10)\n",
            "0\n"
          ]
        },
        {
          "output_type": "stream",
          "name": "stderr",
          "text": [
            "100%|██████████| 1/1 [00:00<00:00,  1.14it/s]\n"
          ]
        },
        {
          "output_type": "stream",
          "name": "stdout",
          "text": [
            "1\n"
          ]
        },
        {
          "output_type": "stream",
          "name": "stderr",
          "text": [
            "100%|██████████| 1/1 [00:00<00:00,  2.54it/s]\n"
          ]
        },
        {
          "output_type": "stream",
          "name": "stdout",
          "text": [
            "2\n"
          ]
        },
        {
          "output_type": "stream",
          "name": "stderr",
          "text": [
            "100%|██████████| 1/1 [00:00<00:00,  2.79it/s]\n"
          ]
        },
        {
          "output_type": "stream",
          "name": "stdout",
          "text": [
            "3\n"
          ]
        },
        {
          "output_type": "stream",
          "name": "stderr",
          "text": [
            "100%|██████████| 1/1 [00:00<00:00,  3.18it/s]\n"
          ]
        },
        {
          "output_type": "stream",
          "name": "stdout",
          "text": [
            "4\n"
          ]
        },
        {
          "output_type": "stream",
          "name": "stderr",
          "text": [
            "100%|██████████| 1/1 [00:00<00:00,  3.10it/s]\n"
          ]
        },
        {
          "output_type": "stream",
          "name": "stdout",
          "text": [
            "5\n"
          ]
        },
        {
          "output_type": "stream",
          "name": "stderr",
          "text": [
            "  0%|          | 0/1 [00:00<?, ?it/s]/usr/local/lib/python3.7/dist-packages/ipykernel_launcher.py:5: VisibleDeprecationWarning: Creating an ndarray from ragged nested sequences (which is a list-or-tuple of lists-or-tuples-or ndarrays with different lengths or shapes) is deprecated. If you meant to do this, you must specify 'dtype=object' when creating the ndarray.\n",
            "  \"\"\"\n",
            "100%|██████████| 1/1 [00:00<00:00,  3.11it/s]\n"
          ]
        },
        {
          "output_type": "stream",
          "name": "stdout",
          "text": [
            "6\n"
          ]
        },
        {
          "output_type": "stream",
          "name": "stderr",
          "text": [
            "100%|██████████| 1/1 [00:00<00:00,  3.28it/s]\n"
          ]
        },
        {
          "output_type": "stream",
          "name": "stdout",
          "text": [
            "7\n"
          ]
        },
        {
          "output_type": "stream",
          "name": "stderr",
          "text": [
            "100%|██████████| 1/1 [00:00<00:00,  3.29it/s]\n"
          ]
        },
        {
          "output_type": "stream",
          "name": "stdout",
          "text": [
            "8\n"
          ]
        },
        {
          "output_type": "stream",
          "name": "stderr",
          "text": [
            "100%|██████████| 1/1 [00:00<00:00,  3.30it/s]\n"
          ]
        },
        {
          "output_type": "stream",
          "name": "stdout",
          "text": [
            "9\n"
          ]
        },
        {
          "output_type": "stream",
          "name": "stderr",
          "text": [
            "100%|██████████| 1/1 [00:00<00:00,  3.24it/s]\n"
          ]
        },
        {
          "output_type": "display_data",
          "data": {
            "text/plain": [
              "<Figure size 576x432 with 1 Axes>"
            ],
            "image/png": "[encoded data removed]"
          },
          "metadata": {
            "needs_background": "light"
          }
        },
        {
          "output_type": "stream",
          "name": "stdout",
          "text": [
            "(182, 64, 64, 10)\n",
            "0\n"
          ]
        },
        {
          "output_type": "stream",
          "name": "stderr",
          "text": [
            "100%|██████████| 1/1 [00:00<00:00,  3.15it/s]\n"
          ]
        },
        {
          "output_type": "stream",
          "name": "stdout",
          "text": [
            "1\n"
          ]
        },
        {
          "output_type": "stream",
          "name": "stderr",
          "text": [
            "100%|██████████| 1/1 [00:00<00:00,  3.39it/s]\n"
          ]
        },
        {
          "output_type": "stream",
          "name": "stdout",
          "text": [
            "2\n"
          ]
        },
        {
          "output_type": "stream",
          "name": "stderr",
          "text": [
            "100%|██████████| 1/1 [00:00<00:00,  3.17it/s]\n"
          ]
        },
        {
          "output_type": "stream",
          "name": "stdout",
          "text": [
            "3\n"
          ]
        },
        {
          "output_type": "stream",
          "name": "stderr",
          "text": [
            "100%|██████████| 1/1 [00:00<00:00,  3.19it/s]\n"
          ]
        },
        {
          "output_type": "stream",
          "name": "stdout",
          "text": [
            "4\n"
          ]
        },
        {
          "output_type": "stream",
          "name": "stderr",
          "text": [
            "100%|██████████| 1/1 [00:00<00:00,  3.09it/s]\n"
          ]
        },
        {
          "output_type": "stream",
          "name": "stdout",
          "text": [
            "5\n"
          ]
        },
        {
          "output_type": "stream",
          "name": "stderr",
          "text": [
            "100%|██████████| 1/1 [00:00<00:00,  3.15it/s]\n"
          ]
        },
        {
          "output_type": "stream",
          "name": "stdout",
          "text": [
            "6\n"
          ]
        },
        {
          "output_type": "stream",
          "name": "stderr",
          "text": [
            "100%|██████████| 1/1 [00:00<00:00,  2.82it/s]\n"
          ]
        },
        {
          "output_type": "stream",
          "name": "stdout",
          "text": [
            "7\n"
          ]
        },
        {
          "output_type": "stream",
          "name": "stderr",
          "text": [
            "100%|██████████| 1/1 [00:00<00:00,  3.35it/s]\n"
          ]
        },
        {
          "output_type": "stream",
          "name": "stdout",
          "text": [
            "8\n"
          ]
        },
        {
          "output_type": "stream",
          "name": "stderr",
          "text": [
            "100%|██████████| 1/1 [00:00<00:00,  3.13it/s]\n"
          ]
        },
        {
          "output_type": "stream",
          "name": "stdout",
          "text": [
            "9\n"
          ]
        },
        {
          "output_type": "stream",
          "name": "stderr",
          "text": [
            "100%|██████████| 1/1 [00:00<00:00,  3.09it/s]\n"
          ]
        },
        {
          "output_type": "display_data",
          "data": {
            "text/plain": [
              "<Figure size 576x432 with 1 Axes>"
            ],
            "image/png": "[encoded data removed]"
          },
          "metadata": {
            "needs_background": "light"
          }
        },
        {
          "output_type": "stream",
          "name": "stdout",
          "text": [
            "(182, 64, 64, 10)\n",
            "0\n"
          ]
        },
        {
          "output_type": "stream",
          "name": "stderr",
          "text": [
            "100%|██████████| 1/1 [00:00<00:00,  3.36it/s]\n"
          ]
        },
        {
          "output_type": "stream",
          "name": "stdout",
          "text": [
            "1\n"
          ]
        },
        {
          "output_type": "stream",
          "name": "stderr",
          "text": [
            "100%|██████████| 1/1 [00:00<00:00,  3.16it/s]\n"
          ]
        },
        {
          "output_type": "stream",
          "name": "stdout",
          "text": [
            "2\n"
          ]
        },
        {
          "output_type": "stream",
          "name": "stderr",
          "text": [
            "100%|██████████| 1/1 [00:00<00:00,  2.95it/s]\n"
          ]
        },
        {
          "output_type": "stream",
          "name": "stdout",
          "text": [
            "3\n"
          ]
        },
        {
          "output_type": "stream",
          "name": "stderr",
          "text": [
            "100%|██████████| 1/1 [00:00<00:00,  3.25it/s]\n"
          ]
        },
        {
          "output_type": "stream",
          "name": "stdout",
          "text": [
            "4\n"
          ]
        },
        {
          "output_type": "stream",
          "name": "stderr",
          "text": [
            "100%|██████████| 1/1 [00:00<00:00,  2.97it/s]\n"
          ]
        },
        {
          "output_type": "stream",
          "name": "stdout",
          "text": [
            "5\n"
          ]
        },
        {
          "output_type": "stream",
          "name": "stderr",
          "text": [
            "100%|██████████| 1/1 [00:00<00:00,  3.04it/s]\n"
          ]
        },
        {
          "output_type": "stream",
          "name": "stdout",
          "text": [
            "6\n"
          ]
        },
        {
          "output_type": "stream",
          "name": "stderr",
          "text": [
            "100%|██████████| 1/1 [00:00<00:00,  3.29it/s]\n"
          ]
        },
        {
          "output_type": "stream",
          "name": "stdout",
          "text": [
            "7\n"
          ]
        },
        {
          "output_type": "stream",
          "name": "stderr",
          "text": [
            "100%|██████████| 1/1 [00:00<00:00,  3.35it/s]\n"
          ]
        },
        {
          "output_type": "stream",
          "name": "stdout",
          "text": [
            "8\n"
          ]
        },
        {
          "output_type": "stream",
          "name": "stderr",
          "text": [
            "100%|██████████| 1/1 [00:00<00:00,  3.22it/s]\n"
          ]
        },
        {
          "output_type": "stream",
          "name": "stdout",
          "text": [
            "9\n"
          ]
        },
        {
          "output_type": "stream",
          "name": "stderr",
          "text": [
            "100%|██████████| 1/1 [00:00<00:00,  3.25it/s]\n"
          ]
        },
        {
          "output_type": "display_data",
          "data": {
            "text/plain": [
              "<Figure size 576x432 with 1 Axes>"
            ],
            "image/png": "[encoded data removed]"
          },
          "metadata": {
            "needs_background": "light"
          }
        },
        {
          "output_type": "stream",
          "name": "stdout",
          "text": [
            "(182, 64, 64, 10)\n",
            "0\n"
          ]
        },
        {
          "output_type": "stream",
          "name": "stderr",
          "text": [
            "100%|██████████| 1/1 [00:00<00:00,  3.28it/s]\n"
          ]
        },
        {
          "output_type": "stream",
          "name": "stdout",
          "text": [
            "1\n"
          ]
        },
        {
          "output_type": "stream",
          "name": "stderr",
          "text": [
            "100%|██████████| 1/1 [00:00<00:00,  3.31it/s]\n"
          ]
        },
        {
          "output_type": "stream",
          "name": "stdout",
          "text": [
            "2\n"
          ]
        },
        {
          "output_type": "stream",
          "name": "stderr",
          "text": [
            "100%|██████████| 1/1 [00:00<00:00,  3.15it/s]\n"
          ]
        },
        {
          "output_type": "stream",
          "name": "stdout",
          "text": [
            "3\n"
          ]
        },
        {
          "output_type": "stream",
          "name": "stderr",
          "text": [
            "100%|██████████| 1/1 [00:00<00:00,  3.23it/s]\n"
          ]
        },
        {
          "output_type": "stream",
          "name": "stdout",
          "text": [
            "4\n"
          ]
        },
        {
          "output_type": "stream",
          "name": "stderr",
          "text": [
            "100%|██████████| 1/1 [00:00<00:00,  3.38it/s]\n"
          ]
        },
        {
          "output_type": "stream",
          "name": "stdout",
          "text": [
            "5\n"
          ]
        },
        {
          "output_type": "stream",
          "name": "stderr",
          "text": [
            "100%|██████████| 1/1 [00:00<00:00,  3.41it/s]\n"
          ]
        },
        {
          "output_type": "stream",
          "name": "stdout",
          "text": [
            "6\n"
          ]
        },
        {
          "output_type": "stream",
          "name": "stderr",
          "text": [
            "100%|██████████| 1/1 [00:00<00:00,  3.32it/s]\n"
          ]
        },
        {
          "output_type": "stream",
          "name": "stdout",
          "text": [
            "7\n"
          ]
        },
        {
          "output_type": "stream",
          "name": "stderr",
          "text": [
            "100%|██████████| 1/1 [00:00<00:00,  3.02it/s]\n"
          ]
        },
        {
          "output_type": "stream",
          "name": "stdout",
          "text": [
            "8\n"
          ]
        },
        {
          "output_type": "stream",
          "name": "stderr",
          "text": [
            "100%|██████████| 1/1 [00:00<00:00,  3.42it/s]\n"
          ]
        },
        {
          "output_type": "stream",
          "name": "stdout",
          "text": [
            "9\n"
          ]
        },
        {
          "output_type": "stream",
          "name": "stderr",
          "text": [
            "100%|██████████| 1/1 [00:00<00:00,  2.95it/s]\n"
          ]
        },
        {
          "output_type": "display_data",
          "data": {
            "text/plain": [
              "<Figure size 576x432 with 1 Axes>"
            ],
            "image/png": "[encoded data removed]"
          },
          "metadata": {
            "needs_background": "light"
          }
        },
        {
          "output_type": "stream",
          "name": "stdout",
          "text": [
            "(182, 64, 64, 10)\n",
            "0\n"
          ]
        },
        {
          "output_type": "stream",
          "name": "stderr",
          "text": [
            "100%|██████████| 1/1 [00:00<00:00,  3.26it/s]\n"
          ]
        },
        {
          "output_type": "stream",
          "name": "stdout",
          "text": [
            "1\n"
          ]
        },
        {
          "output_type": "stream",
          "name": "stderr",
          "text": [
            "100%|██████████| 1/1 [00:00<00:00,  3.04it/s]\n"
          ]
        },
        {
          "output_type": "stream",
          "name": "stdout",
          "text": [
            "2\n"
          ]
        },
        {
          "output_type": "stream",
          "name": "stderr",
          "text": [
            "100%|██████████| 1/1 [00:00<00:00,  3.23it/s]\n"
          ]
        },
        {
          "output_type": "stream",
          "name": "stdout",
          "text": [
            "3\n"
          ]
        },
        {
          "output_type": "stream",
          "name": "stderr",
          "text": [
            "100%|██████████| 1/1 [00:00<00:00,  3.06it/s]\n"
          ]
        },
        {
          "output_type": "stream",
          "name": "stdout",
          "text": [
            "4\n"
          ]
        },
        {
          "output_type": "stream",
          "name": "stderr",
          "text": [
            "100%|██████████| 1/1 [00:00<00:00,  3.18it/s]\n"
          ]
        },
        {
          "output_type": "stream",
          "name": "stdout",
          "text": [
            "5\n"
          ]
        },
        {
          "output_type": "stream",
          "name": "stderr",
          "text": [
            "100%|██████████| 1/1 [00:00<00:00,  3.27it/s]\n"
          ]
        },
        {
          "output_type": "stream",
          "name": "stdout",
          "text": [
            "6\n"
          ]
        },
        {
          "output_type": "stream",
          "name": "stderr",
          "text": [
            "100%|██████████| 1/1 [00:00<00:00,  3.37it/s]\n"
          ]
        },
        {
          "output_type": "stream",
          "name": "stdout",
          "text": [
            "7\n"
          ]
        },
        {
          "output_type": "stream",
          "name": "stderr",
          "text": [
            "100%|██████████| 1/1 [00:00<00:00,  3.09it/s]\n"
          ]
        },
        {
          "output_type": "stream",
          "name": "stdout",
          "text": [
            "8\n"
          ]
        },
        {
          "output_type": "stream",
          "name": "stderr",
          "text": [
            "100%|██████████| 1/1 [00:00<00:00,  3.18it/s]\n"
          ]
        },
        {
          "output_type": "stream",
          "name": "stdout",
          "text": [
            "9\n"
          ]
        },
        {
          "output_type": "stream",
          "name": "stderr",
          "text": [
            "100%|██████████| 1/1 [00:00<00:00,  3.19it/s]\n"
          ]
        },
        {
          "output_type": "display_data",
          "data": {
            "text/plain": [
              "<Figure size 576x432 with 1 Axes>"
            ],
            "image/png": "[encoded data removed]"
          },
          "metadata": {
            "needs_background": "light"
          }
        },
        {
          "output_type": "stream",
          "name": "stdout",
          "text": [
            "(182, 64, 64, 10)\n",
            "0\n"
          ]
        },
        {
          "output_type": "stream",
          "name": "stderr",
          "text": [
            "100%|██████████| 1/1 [00:00<00:00,  3.24it/s]\n"
          ]
        },
        {
          "output_type": "stream",
          "name": "stdout",
          "text": [
            "1\n"
          ]
        },
        {
          "output_type": "stream",
          "name": "stderr",
          "text": [
            "100%|██████████| 1/1 [00:00<00:00,  3.08it/s]\n"
          ]
        },
        {
          "output_type": "stream",
          "name": "stdout",
          "text": [
            "2\n"
          ]
        },
        {
          "output_type": "stream",
          "name": "stderr",
          "text": [
            "100%|██████████| 1/1 [00:00<00:00,  3.36it/s]\n"
          ]
        },
        {
          "output_type": "stream",
          "name": "stdout",
          "text": [
            "3\n"
          ]
        },
        {
          "output_type": "stream",
          "name": "stderr",
          "text": [
            "100%|██████████| 1/1 [00:00<00:00,  3.00it/s]\n"
          ]
        },
        {
          "output_type": "stream",
          "name": "stdout",
          "text": [
            "4\n"
          ]
        },
        {
          "output_type": "stream",
          "name": "stderr",
          "text": [
            "100%|██████████| 1/1 [00:00<00:00,  2.90it/s]\n"
          ]
        },
        {
          "output_type": "stream",
          "name": "stdout",
          "text": [
            "5\n"
          ]
        },
        {
          "output_type": "stream",
          "name": "stderr",
          "text": [
            "100%|██████████| 1/1 [00:00<00:00,  3.32it/s]\n"
          ]
        },
        {
          "output_type": "stream",
          "name": "stdout",
          "text": [
            "6\n"
          ]
        },
        {
          "output_type": "stream",
          "name": "stderr",
          "text": [
            "100%|██████████| 1/1 [00:00<00:00,  3.26it/s]\n"
          ]
        },
        {
          "output_type": "stream",
          "name": "stdout",
          "text": [
            "7\n"
          ]
        },
        {
          "output_type": "stream",
          "name": "stderr",
          "text": [
            "100%|██████████| 1/1 [00:00<00:00,  3.23it/s]\n"
          ]
        },
        {
          "output_type": "stream",
          "name": "stdout",
          "text": [
            "8\n"
          ]
        },
        {
          "output_type": "stream",
          "name": "stderr",
          "text": [
            "100%|██████████| 1/1 [00:00<00:00,  3.26it/s]\n"
          ]
        },
        {
          "output_type": "stream",
          "name": "stdout",
          "text": [
            "9\n"
          ]
        },
        {
          "output_type": "stream",
          "name": "stderr",
          "text": [
            "100%|██████████| 1/1 [00:00<00:00,  2.97it/s]\n"
          ]
        },
        {
          "output_type": "display_data",
          "data": {
            "text/plain": [
              "<Figure size 576x432 with 1 Axes>"
            ],
            "image/png": "[encoded data removed]"
          },
          "metadata": {
            "needs_background": "light"
          }
        },
        {
          "output_type": "stream",
          "name": "stdout",
          "text": [
            "(182, 64, 64, 10)\n",
            "0\n"
          ]
        },
        {
          "output_type": "stream",
          "name": "stderr",
          "text": [
            "100%|██████████| 1/1 [00:00<00:00,  3.23it/s]\n"
          ]
        },
        {
          "output_type": "stream",
          "name": "stdout",
          "text": [
            "1\n"
          ]
        },
        {
          "output_type": "stream",
          "name": "stderr",
          "text": [
            "100%|██████████| 1/1 [00:00<00:00,  3.19it/s]\n"
          ]
        },
        {
          "output_type": "stream",
          "name": "stdout",
          "text": [
            "2\n"
          ]
        },
        {
          "output_type": "stream",
          "name": "stderr",
          "text": [
            "100%|██████████| 1/1 [00:00<00:00,  3.23it/s]\n"
          ]
        },
        {
          "output_type": "stream",
          "name": "stdout",
          "text": [
            "3\n"
          ]
        },
        {
          "output_type": "stream",
          "name": "stderr",
          "text": [
            "100%|██████████| 1/1 [00:00<00:00,  3.15it/s]\n"
          ]
        },
        {
          "output_type": "stream",
          "name": "stdout",
          "text": [
            "4\n"
          ]
        },
        {
          "output_type": "stream",
          "name": "stderr",
          "text": [
            "100%|██████████| 1/1 [00:00<00:00,  3.22it/s]\n"
          ]
        },
        {
          "output_type": "stream",
          "name": "stdout",
          "text": [
            "5\n"
          ]
        },
        {
          "output_type": "stream",
          "name": "stderr",
          "text": [
            "100%|██████████| 1/1 [00:00<00:00,  3.34it/s]\n"
          ]
        },
        {
          "output_type": "stream",
          "name": "stdout",
          "text": [
            "6\n"
          ]
        },
        {
          "output_type": "stream",
          "name": "stderr",
          "text": [
            "100%|██████████| 1/1 [00:00<00:00,  3.30it/s]\n"
          ]
        },
        {
          "output_type": "stream",
          "name": "stdout",
          "text": [
            "7\n"
          ]
        },
        {
          "output_type": "stream",
          "name": "stderr",
          "text": [
            "100%|██████████| 1/1 [00:00<00:00,  3.09it/s]\n"
          ]
        },
        {
          "output_type": "stream",
          "name": "stdout",
          "text": [
            "8\n"
          ]
        },
        {
          "output_type": "stream",
          "name": "stderr",
          "text": [
            "100%|██████████| 1/1 [00:00<00:00,  3.34it/s]\n"
          ]
        },
        {
          "output_type": "stream",
          "name": "stdout",
          "text": [
            "9\n"
          ]
        },
        {
          "output_type": "stream",
          "name": "stderr",
          "text": [
            "100%|██████████| 1/1 [00:00<00:00,  3.12it/s]\n"
          ]
        },
        {
          "output_type": "display_data",
          "data": {
            "text/plain": [
              "<Figure size 576x432 with 1 Axes>"
            ],
            "image/png": "[encoded data removed]"
          },
          "metadata": {
            "needs_background": "light"
          }
        },
        {
          "output_type": "stream",
          "name": "stdout",
          "text": [
            "(182, 64, 64, 10)\n",
            "0\n"
          ]
        },
        {
          "output_type": "stream",
          "name": "stderr",
          "text": [
            "100%|██████████| 1/1 [00:00<00:00,  3.11it/s]\n"
          ]
        },
        {
          "output_type": "stream",
          "name": "stdout",
          "text": [
            "1\n"
          ]
        },
        {
          "output_type": "stream",
          "name": "stderr",
          "text": [
            "100%|██████████| 1/1 [00:00<00:00,  3.07it/s]\n"
          ]
        },
        {
          "output_type": "stream",
          "name": "stdout",
          "text": [
            "2\n"
          ]
        },
        {
          "output_type": "stream",
          "name": "stderr",
          "text": [
            "100%|██████████| 1/1 [00:00<00:00,  3.35it/s]\n"
          ]
        },
        {
          "output_type": "stream",
          "name": "stdout",
          "text": [
            "3\n"
          ]
        },
        {
          "output_type": "stream",
          "name": "stderr",
          "text": [
            "100%|██████████| 1/1 [00:00<00:00,  3.43it/s]\n"
          ]
        },
        {
          "output_type": "stream",
          "name": "stdout",
          "text": [
            "4\n"
          ]
        },
        {
          "output_type": "stream",
          "name": "stderr",
          "text": [
            "100%|██████████| 1/1 [00:00<00:00,  3.58it/s]\n"
          ]
        },
        {
          "output_type": "stream",
          "name": "stdout",
          "text": [
            "5\n"
          ]
        },
        {
          "output_type": "stream",
          "name": "stderr",
          "text": [
            "100%|██████████| 1/1 [00:00<00:00,  3.52it/s]\n"
          ]
        },
        {
          "output_type": "stream",
          "name": "stdout",
          "text": [
            "6\n"
          ]
        },
        {
          "output_type": "stream",
          "name": "stderr",
          "text": [
            "100%|██████████| 1/1 [00:00<00:00,  3.49it/s]\n"
          ]
        },
        {
          "output_type": "stream",
          "name": "stdout",
          "text": [
            "7\n"
          ]
        },
        {
          "output_type": "stream",
          "name": "stderr",
          "text": [
            "100%|██████████| 1/1 [00:00<00:00,  3.53it/s]\n"
          ]
        },
        {
          "output_type": "stream",
          "name": "stdout",
          "text": [
            "8\n"
          ]
        },
        {
          "output_type": "stream",
          "name": "stderr",
          "text": [
            "100%|██████████| 1/1 [00:00<00:00,  3.54it/s]\n"
          ]
        },
        {
          "output_type": "stream",
          "name": "stdout",
          "text": [
            "9\n"
          ]
        },
        {
          "output_type": "stream",
          "name": "stderr",
          "text": [
            "100%|██████████| 1/1 [00:00<00:00,  3.46it/s]\n"
          ]
        },
        {
          "output_type": "display_data",
          "data": {
            "text/plain": [
              "<Figure size 576x432 with 1 Axes>"
            ],
            "image/png": "[encoded data removed]"
          },
          "metadata": {
            "needs_background": "light"
          }
        },
        {
          "output_type": "stream",
          "name": "stdout",
          "text": [
            "(182, 64, 64, 10)\n",
            "0\n"
          ]
        },
        {
          "output_type": "stream",
          "name": "stderr",
          "text": [
            "100%|██████████| 1/1 [00:00<00:00,  3.56it/s]\n"
          ]
        },
        {
          "output_type": "stream",
          "name": "stdout",
          "text": [
            "1\n"
          ]
        },
        {
          "output_type": "stream",
          "name": "stderr",
          "text": [
            "100%|██████████| 1/1 [00:00<00:00,  3.28it/s]\n"
          ]
        },
        {
          "output_type": "stream",
          "name": "stdout",
          "text": [
            "2\n"
          ]
        },
        {
          "output_type": "stream",
          "name": "stderr",
          "text": [
            "100%|██████████| 1/1 [00:00<00:00,  3.58it/s]\n"
          ]
        },
        {
          "output_type": "stream",
          "name": "stdout",
          "text": [
            "3\n"
          ]
        },
        {
          "output_type": "stream",
          "name": "stderr",
          "text": [
            "100%|██████████| 1/1 [00:00<00:00,  3.50it/s]\n"
          ]
        },
        {
          "output_type": "stream",
          "name": "stdout",
          "text": [
            "4\n"
          ]
        },
        {
          "output_type": "stream",
          "name": "stderr",
          "text": [
            "100%|██████████| 1/1 [00:00<00:00,  3.50it/s]\n"
          ]
        },
        {
          "output_type": "stream",
          "name": "stdout",
          "text": [
            "5\n"
          ]
        },
        {
          "output_type": "stream",
          "name": "stderr",
          "text": [
            "100%|██████████| 1/1 [00:00<00:00,  3.43it/s]\n"
          ]
        },
        {
          "output_type": "stream",
          "name": "stdout",
          "text": [
            "6\n"
          ]
        },
        {
          "output_type": "stream",
          "name": "stderr",
          "text": [
            "100%|██████████| 1/1 [00:00<00:00,  3.50it/s]\n"
          ]
        },
        {
          "output_type": "stream",
          "name": "stdout",
          "text": [
            "7\n"
          ]
        },
        {
          "output_type": "stream",
          "name": "stderr",
          "text": [
            "100%|██████████| 1/1 [00:00<00:00,  3.59it/s]\n"
          ]
        },
        {
          "output_type": "stream",
          "name": "stdout",
          "text": [
            "8\n"
          ]
        },
        {
          "output_type": "stream",
          "name": "stderr",
          "text": [
            "100%|██████████| 1/1 [00:00<00:00,  3.55it/s]\n"
          ]
        },
        {
          "output_type": "stream",
          "name": "stdout",
          "text": [
            "9\n"
          ]
        },
        {
          "output_type": "stream",
          "name": "stderr",
          "text": [
            "100%|██████████| 1/1 [00:00<00:00,  3.42it/s]\n"
          ]
        },
        {
          "output_type": "display_data",
          "data": {
            "text/plain": [
              "<Figure size 576x432 with 1 Axes>"
            ],
            "image/png": "[encoded data removed]"
          },
          "metadata": {
            "needs_background": "light"
          }
        },
        {
          "output_type": "stream",
          "name": "stdout",
          "text": [
            "(182, 64, 64, 10)\n",
            "0\n"
          ]
        },
        {
          "output_type": "stream",
          "name": "stderr",
          "text": [
            "100%|██████████| 1/1 [00:00<00:00,  3.59it/s]\n"
          ]
        },
        {
          "output_type": "stream",
          "name": "stdout",
          "text": [
            "1\n"
          ]
        },
        {
          "output_type": "stream",
          "name": "stderr",
          "text": [
            "100%|██████████| 1/1 [00:00<00:00,  3.60it/s]\n"
          ]
        },
        {
          "output_type": "stream",
          "name": "stdout",
          "text": [
            "2\n"
          ]
        },
        {
          "output_type": "stream",
          "name": "stderr",
          "text": [
            "100%|██████████| 1/1 [00:00<00:00,  3.38it/s]\n"
          ]
        },
        {
          "output_type": "stream",
          "name": "stdout",
          "text": [
            "3\n"
          ]
        },
        {
          "output_type": "stream",
          "name": "stderr",
          "text": [
            "100%|██████████| 1/1 [00:00<00:00,  3.49it/s]\n"
          ]
        },
        {
          "output_type": "stream",
          "name": "stdout",
          "text": [
            "4\n"
          ]
        },
        {
          "output_type": "stream",
          "name": "stderr",
          "text": [
            "100%|██████████| 1/1 [00:00<00:00,  3.49it/s]\n"
          ]
        },
        {
          "output_type": "stream",
          "name": "stdout",
          "text": [
            "5\n"
          ]
        },
        {
          "output_type": "stream",
          "name": "stderr",
          "text": [
            "100%|██████████| 1/1 [00:00<00:00,  3.59it/s]\n"
          ]
        },
        {
          "output_type": "stream",
          "name": "stdout",
          "text": [
            "6\n"
          ]
        },
        {
          "output_type": "stream",
          "name": "stderr",
          "text": [
            "100%|██████████| 1/1 [00:00<00:00,  3.40it/s]\n"
          ]
        },
        {
          "output_type": "stream",
          "name": "stdout",
          "text": [
            "7\n"
          ]
        },
        {
          "output_type": "stream",
          "name": "stderr",
          "text": [
            "100%|██████████| 1/1 [00:00<00:00,  3.47it/s]\n"
          ]
        },
        {
          "output_type": "stream",
          "name": "stdout",
          "text": [
            "8\n"
          ]
        },
        {
          "output_type": "stream",
          "name": "stderr",
          "text": [
            "100%|██████████| 1/1 [00:00<00:00,  3.43it/s]\n"
          ]
        },
        {
          "output_type": "stream",
          "name": "stdout",
          "text": [
            "9\n"
          ]
        },
        {
          "output_type": "stream",
          "name": "stderr",
          "text": [
            "100%|██████████| 1/1 [00:00<00:00,  3.34it/s]\n"
          ]
        },
        {
          "output_type": "display_data",
          "data": {
            "text/plain": [
              "<Figure size 576x432 with 1 Axes>"
            ],
            "image/png": "[encoded data removed]"
          },
          "metadata": {
            "needs_background": "light"
          }
        },
        {
          "output_type": "stream",
          "name": "stdout",
          "text": [
            "(182, 64, 64, 10)\n",
            "0\n"
          ]
        },
        {
          "output_type": "stream",
          "name": "stderr",
          "text": [
            "100%|██████████| 1/1 [00:00<00:00,  3.27it/s]\n"
          ]
        },
        {
          "output_type": "stream",
          "name": "stdout",
          "text": [
            "1\n"
          ]
        },
        {
          "output_type": "stream",
          "name": "stderr",
          "text": [
            "100%|██████████| 1/1 [00:00<00:00,  3.63it/s]\n"
          ]
        },
        {
          "output_type": "stream",
          "name": "stdout",
          "text": [
            "2\n"
          ]
        },
        {
          "output_type": "stream",
          "name": "stderr",
          "text": [
            "100%|██████████| 1/1 [00:00<00:00,  3.22it/s]\n"
          ]
        },
        {
          "output_type": "stream",
          "name": "stdout",
          "text": [
            "3\n"
          ]
        },
        {
          "output_type": "stream",
          "name": "stderr",
          "text": [
            "100%|██████████| 1/1 [00:00<00:00,  3.50it/s]\n"
          ]
        },
        {
          "output_type": "stream",
          "name": "stdout",
          "text": [
            "4\n"
          ]
        },
        {
          "output_type": "stream",
          "name": "stderr",
          "text": [
            "100%|██████████| 1/1 [00:00<00:00,  2.55it/s]\n"
          ]
        },
        {
          "output_type": "stream",
          "name": "stdout",
          "text": [
            "5\n"
          ]
        },
        {
          "output_type": "stream",
          "name": "stderr",
          "text": [
            "100%|██████████| 1/1 [00:00<00:00,  2.65it/s]\n"
          ]
        },
        {
          "output_type": "stream",
          "name": "stdout",
          "text": [
            "6\n"
          ]
        },
        {
          "output_type": "stream",
          "name": "stderr",
          "text": [
            "100%|██████████| 1/1 [00:00<00:00,  3.41it/s]\n"
          ]
        },
        {
          "output_type": "stream",
          "name": "stdout",
          "text": [
            "7\n"
          ]
        },
        {
          "output_type": "stream",
          "name": "stderr",
          "text": [
            "100%|██████████| 1/1 [00:00<00:00,  2.35it/s]\n"
          ]
        },
        {
          "output_type": "stream",
          "name": "stdout",
          "text": [
            "8\n"
          ]
        },
        {
          "output_type": "stream",
          "name": "stderr",
          "text": [
            "100%|██████████| 1/1 [00:00<00:00,  2.64it/s]\n"
          ]
        },
        {
          "output_type": "stream",
          "name": "stdout",
          "text": [
            "9\n"
          ]
        },
        {
          "output_type": "stream",
          "name": "stderr",
          "text": [
            "100%|██████████| 1/1 [00:00<00:00,  2.94it/s]\n"
          ]
        },
        {
          "output_type": "display_data",
          "data": {
            "text/plain": [
              "<Figure size 576x432 with 1 Axes>"
            ],
            "image/png": "[encoded data removed]"
          },
          "metadata": {
            "needs_background": "light"
          }
        },
        {
          "output_type": "stream",
          "name": "stdout",
          "text": [
            "(182, 64, 64, 10)\n",
            "0\n"
          ]
        },
        {
          "output_type": "stream",
          "name": "stderr",
          "text": [
            "100%|██████████| 1/1 [00:00<00:00,  3.47it/s]\n"
          ]
        },
        {
          "output_type": "stream",
          "name": "stdout",
          "text": [
            "1\n"
          ]
        },
        {
          "output_type": "stream",
          "name": "stderr",
          "text": [
            "100%|██████████| 1/1 [00:00<00:00,  3.43it/s]\n"
          ]
        },
        {
          "output_type": "stream",
          "name": "stdout",
          "text": [
            "2\n"
          ]
        },
        {
          "output_type": "stream",
          "name": "stderr",
          "text": [
            "100%|██████████| 1/1 [00:00<00:00,  3.52it/s]\n"
          ]
        },
        {
          "output_type": "stream",
          "name": "stdout",
          "text": [
            "3\n"
          ]
        },
        {
          "output_type": "stream",
          "name": "stderr",
          "text": [
            "100%|██████████| 1/1 [00:00<00:00,  3.47it/s]\n"
          ]
        },
        {
          "output_type": "stream",
          "name": "stdout",
          "text": [
            "4\n"
          ]
        },
        {
          "output_type": "stream",
          "name": "stderr",
          "text": [
            "100%|██████████| 1/1 [00:00<00:00,  3.49it/s]\n"
          ]
        },
        {
          "output_type": "stream",
          "name": "stdout",
          "text": [
            "5\n"
          ]
        },
        {
          "output_type": "stream",
          "name": "stderr",
          "text": [
            "100%|██████████| 1/1 [00:00<00:00,  3.42it/s]\n"
          ]
        },
        {
          "output_type": "stream",
          "name": "stdout",
          "text": [
            "6\n"
          ]
        },
        {
          "output_type": "stream",
          "name": "stderr",
          "text": [
            "100%|██████████| 1/1 [00:00<00:00,  3.32it/s]\n"
          ]
        },
        {
          "output_type": "stream",
          "name": "stdout",
          "text": [
            "7\n"
          ]
        },
        {
          "output_type": "stream",
          "name": "stderr",
          "text": [
            "100%|██████████| 1/1 [00:00<00:00,  3.37it/s]\n"
          ]
        },
        {
          "output_type": "stream",
          "name": "stdout",
          "text": [
            "8\n"
          ]
        },
        {
          "output_type": "stream",
          "name": "stderr",
          "text": [
            "100%|██████████| 1/1 [00:00<00:00,  3.54it/s]\n"
          ]
        },
        {
          "output_type": "stream",
          "name": "stdout",
          "text": [
            "9\n"
          ]
        },
        {
          "output_type": "stream",
          "name": "stderr",
          "text": [
            "100%|██████████| 1/1 [00:00<00:00,  3.35it/s]\n"
          ]
        },
        {
          "output_type": "display_data",
          "data": {
            "text/plain": [
              "<Figure size 576x432 with 1 Axes>"
            ],
            "image/png": "[encoded data removed]"
          },
          "metadata": {
            "needs_background": "light"
          }
        },
        {
          "output_type": "stream",
          "name": "stdout",
          "text": [
            "(182, 64, 64, 10)\n",
            "0\n"
          ]
        },
        {
          "output_type": "stream",
          "name": "stderr",
          "text": [
            "100%|██████████| 1/1 [00:00<00:00,  3.49it/s]\n"
          ]
        },
        {
          "output_type": "stream",
          "name": "stdout",
          "text": [
            "1\n"
          ]
        },
        {
          "output_type": "stream",
          "name": "stderr",
          "text": [
            "100%|██████████| 1/1 [00:00<00:00,  3.46it/s]\n"
          ]
        },
        {
          "output_type": "stream",
          "name": "stdout",
          "text": [
            "2\n"
          ]
        },
        {
          "output_type": "stream",
          "name": "stderr",
          "text": [
            "100%|██████████| 1/1 [00:00<00:00,  3.41it/s]\n"
          ]
        },
        {
          "output_type": "stream",
          "name": "stdout",
          "text": [
            "3\n"
          ]
        },
        {
          "output_type": "stream",
          "name": "stderr",
          "text": [
            "100%|██████████| 1/1 [00:00<00:00,  3.59it/s]\n"
          ]
        },
        {
          "output_type": "stream",
          "name": "stdout",
          "text": [
            "4\n"
          ]
        },
        {
          "output_type": "stream",
          "name": "stderr",
          "text": [
            "100%|██████████| 1/1 [00:00<00:00,  3.38it/s]\n"
          ]
        },
        {
          "output_type": "stream",
          "name": "stdout",
          "text": [
            "5\n"
          ]
        },
        {
          "output_type": "stream",
          "name": "stderr",
          "text": [
            "100%|██████████| 1/1 [00:00<00:00,  3.31it/s]\n"
          ]
        },
        {
          "output_type": "stream",
          "name": "stdout",
          "text": [
            "6\n"
          ]
        },
        {
          "output_type": "stream",
          "name": "stderr",
          "text": [
            "100%|██████████| 1/1 [00:00<00:00,  3.32it/s]\n"
          ]
        },
        {
          "output_type": "stream",
          "name": "stdout",
          "text": [
            "7\n"
          ]
        },
        {
          "output_type": "stream",
          "name": "stderr",
          "text": [
            "100%|██████████| 1/1 [00:00<00:00,  3.40it/s]\n"
          ]
        },
        {
          "output_type": "stream",
          "name": "stdout",
          "text": [
            "8\n"
          ]
        },
        {
          "output_type": "stream",
          "name": "stderr",
          "text": [
            "100%|██████████| 1/1 [00:00<00:00,  3.16it/s]\n"
          ]
        },
        {
          "output_type": "stream",
          "name": "stdout",
          "text": [
            "9\n"
          ]
        },
        {
          "output_type": "stream",
          "name": "stderr",
          "text": [
            "100%|██████████| 1/1 [00:00<00:00,  3.22it/s]\n"
          ]
        },
        {
          "output_type": "display_data",
          "data": {
            "text/plain": [
              "<Figure size 576x432 with 1 Axes>"
            ],
            "image/png": "[encoded data removed]"
          },
          "metadata": {
            "needs_background": "light"
          }
        },
        {
          "output_type": "stream",
          "name": "stdout",
          "text": [
            "(182, 64, 64, 10)\n",
            "0\n"
          ]
        },
        {
          "output_type": "stream",
          "name": "stderr",
          "text": [
            "100%|██████████| 1/1 [00:00<00:00,  3.46it/s]\n"
          ]
        },
        {
          "output_type": "stream",
          "name": "stdout",
          "text": [
            "1\n"
          ]
        },
        {
          "output_type": "stream",
          "name": "stderr",
          "text": [
            "100%|██████████| 1/1 [00:00<00:00,  3.49it/s]\n"
          ]
        },
        {
          "output_type": "stream",
          "name": "stdout",
          "text": [
            "2\n"
          ]
        },
        {
          "output_type": "stream",
          "name": "stderr",
          "text": [
            "100%|██████████| 1/1 [00:00<00:00,  3.53it/s]\n"
          ]
        },
        {
          "output_type": "stream",
          "name": "stdout",
          "text": [
            "3\n"
          ]
        },
        {
          "output_type": "stream",
          "name": "stderr",
          "text": [
            "100%|██████████| 1/1 [00:00<00:00,  3.47it/s]\n"
          ]
        },
        {
          "output_type": "stream",
          "name": "stdout",
          "text": [
            "4\n"
          ]
        },
        {
          "output_type": "stream",
          "name": "stderr",
          "text": [
            "100%|██████████| 1/1 [00:00<00:00,  3.46it/s]\n"
          ]
        },
        {
          "output_type": "stream",
          "name": "stdout",
          "text": [
            "5\n"
          ]
        },
        {
          "output_type": "stream",
          "name": "stderr",
          "text": [
            "100%|██████████| 1/1 [00:00<00:00,  3.56it/s]\n"
          ]
        },
        {
          "output_type": "stream",
          "name": "stdout",
          "text": [
            "6\n"
          ]
        },
        {
          "output_type": "stream",
          "name": "stderr",
          "text": [
            "100%|██████████| 1/1 [00:00<00:00,  3.51it/s]\n"
          ]
        },
        {
          "output_type": "stream",
          "name": "stdout",
          "text": [
            "7\n"
          ]
        },
        {
          "output_type": "stream",
          "name": "stderr",
          "text": [
            "100%|██████████| 1/1 [00:00<00:00,  3.59it/s]\n"
          ]
        },
        {
          "output_type": "stream",
          "name": "stdout",
          "text": [
            "8\n"
          ]
        },
        {
          "output_type": "stream",
          "name": "stderr",
          "text": [
            "100%|██████████| 1/1 [00:00<00:00,  3.47it/s]\n"
          ]
        },
        {
          "output_type": "stream",
          "name": "stdout",
          "text": [
            "9\n"
          ]
        },
        {
          "output_type": "stream",
          "name": "stderr",
          "text": [
            "100%|██████████| 1/1 [00:00<00:00,  3.39it/s]\n"
          ]
        },
        {
          "output_type": "display_data",
          "data": {
            "text/plain": [
              "<Figure size 576x432 with 1 Axes>"
            ],
            "image/png": "[encoded data removed]"
          },
          "metadata": {
            "needs_background": "light"
          }
        },
        {
          "output_type": "stream",
          "name": "stdout",
          "text": [
            "(182, 64, 64, 10)\n",
            "0\n"
          ]
        },
        {
          "output_type": "stream",
          "name": "stderr",
          "text": [
            "100%|██████████| 1/1 [00:00<00:00,  3.50it/s]\n"
          ]
        },
        {
          "output_type": "stream",
          "name": "stdout",
          "text": [
            "1\n"
          ]
        },
        {
          "output_type": "stream",
          "name": "stderr",
          "text": [
            "100%|██████████| 1/1 [00:00<00:00,  3.53it/s]\n"
          ]
        },
        {
          "output_type": "stream",
          "name": "stdout",
          "text": [
            "2\n"
          ]
        },
        {
          "output_type": "stream",
          "name": "stderr",
          "text": [
            "100%|██████████| 1/1 [00:00<00:00,  3.42it/s]\n"
          ]
        },
        {
          "output_type": "stream",
          "name": "stdout",
          "text": [
            "3\n"
          ]
        },
        {
          "output_type": "stream",
          "name": "stderr",
          "text": [
            "100%|██████████| 1/1 [00:00<00:00,  3.55it/s]\n"
          ]
        },
        {
          "output_type": "stream",
          "name": "stdout",
          "text": [
            "4\n"
          ]
        },
        {
          "output_type": "stream",
          "name": "stderr",
          "text": [
            "100%|██████████| 1/1 [00:00<00:00,  3.19it/s]\n"
          ]
        },
        {
          "output_type": "stream",
          "name": "stdout",
          "text": [
            "5\n"
          ]
        },
        {
          "output_type": "stream",
          "name": "stderr",
          "text": [
            "100%|██████████| 1/1 [00:00<00:00,  3.16it/s]\n"
          ]
        },
        {
          "output_type": "stream",
          "name": "stdout",
          "text": [
            "6\n"
          ]
        },
        {
          "output_type": "stream",
          "name": "stderr",
          "text": [
            "100%|██████████| 1/1 [00:00<00:00,  3.38it/s]\n"
          ]
        },
        {
          "output_type": "stream",
          "name": "stdout",
          "text": [
            "7\n"
          ]
        },
        {
          "output_type": "stream",
          "name": "stderr",
          "text": [
            "100%|██████████| 1/1 [00:00<00:00,  3.43it/s]\n"
          ]
        },
        {
          "output_type": "stream",
          "name": "stdout",
          "text": [
            "8\n"
          ]
        },
        {
          "output_type": "stream",
          "name": "stderr",
          "text": [
            "100%|██████████| 1/1 [00:00<00:00,  3.48it/s]\n"
          ]
        },
        {
          "output_type": "stream",
          "name": "stdout",
          "text": [
            "9\n"
          ]
        },
        {
          "output_type": "stream",
          "name": "stderr",
          "text": [
            "100%|██████████| 1/1 [00:00<00:00,  3.30it/s]\n"
          ]
        },
        {
          "output_type": "display_data",
          "data": {
            "text/plain": [
              "<Figure size 576x432 with 1 Axes>"
            ],
            "image/png": "[encoded data removed]"
          },
          "metadata": {
            "needs_background": "light"
          }
        },
        {
          "output_type": "stream",
          "name": "stdout",
          "text": [
            "(182, 64, 64, 10)\n",
            "0\n"
          ]
        },
        {
          "output_type": "stream",
          "name": "stderr",
          "text": [
            "100%|██████████| 1/1 [00:00<00:00,  3.58it/s]\n"
          ]
        },
        {
          "output_type": "stream",
          "name": "stdout",
          "text": [
            "1\n"
          ]
        },
        {
          "output_type": "stream",
          "name": "stderr",
          "text": [
            "100%|██████████| 1/1 [00:00<00:00,  3.53it/s]\n"
          ]
        },
        {
          "output_type": "stream",
          "name": "stdout",
          "text": [
            "2\n"
          ]
        },
        {
          "output_type": "stream",
          "name": "stderr",
          "text": [
            "100%|██████████| 1/1 [00:00<00:00,  3.47it/s]\n"
          ]
        },
        {
          "output_type": "stream",
          "name": "stdout",
          "text": [
            "3\n"
          ]
        },
        {
          "output_type": "stream",
          "name": "stderr",
          "text": [
            "100%|██████████| 1/1 [00:00<00:00,  3.51it/s]\n"
          ]
        },
        {
          "output_type": "stream",
          "name": "stdout",
          "text": [
            "4\n"
          ]
        },
        {
          "output_type": "stream",
          "name": "stderr",
          "text": [
            "100%|██████████| 1/1 [00:00<00:00,  3.47it/s]\n"
          ]
        },
        {
          "output_type": "stream",
          "name": "stdout",
          "text": [
            "5\n"
          ]
        },
        {
          "output_type": "stream",
          "name": "stderr",
          "text": [
            "100%|██████████| 1/1 [00:00<00:00,  3.49it/s]\n"
          ]
        },
        {
          "output_type": "stream",
          "name": "stdout",
          "text": [
            "6\n"
          ]
        },
        {
          "output_type": "stream",
          "name": "stderr",
          "text": [
            "100%|██████████| 1/1 [00:00<00:00,  3.58it/s]\n"
          ]
        },
        {
          "output_type": "stream",
          "name": "stdout",
          "text": [
            "7\n"
          ]
        },
        {
          "output_type": "stream",
          "name": "stderr",
          "text": [
            "100%|██████████| 1/1 [00:00<00:00,  3.50it/s]\n"
          ]
        },
        {
          "output_type": "stream",
          "name": "stdout",
          "text": [
            "8\n"
          ]
        },
        {
          "output_type": "stream",
          "name": "stderr",
          "text": [
            "100%|██████████| 1/1 [00:00<00:00,  3.45it/s]\n"
          ]
        },
        {
          "output_type": "stream",
          "name": "stdout",
          "text": [
            "9\n"
          ]
        },
        {
          "output_type": "stream",
          "name": "stderr",
          "text": [
            "100%|██████████| 1/1 [00:00<00:00,  3.40it/s]\n"
          ]
        },
        {
          "output_type": "display_data",
          "data": {
            "text/plain": [
              "<Figure size 576x432 with 1 Axes>"
            ],
            "image/png": "[encoded data removed]"
          },
          "metadata": {
            "needs_background": "light"
          }
        },
        {
          "output_type": "stream",
          "name": "stdout",
          "text": [
            "(182, 64, 64, 10)\n",
            "0\n"
          ]
        },
        {
          "output_type": "stream",
          "name": "stderr",
          "text": [
            "100%|██████████| 1/1 [00:00<00:00,  3.51it/s]\n"
          ]
        },
        {
          "output_type": "stream",
          "name": "stdout",
          "text": [
            "1\n"
          ]
        },
        {
          "output_type": "stream",
          "name": "stderr",
          "text": [
            "100%|██████████| 1/1 [00:00<00:00,  3.47it/s]\n"
          ]
        },
        {
          "output_type": "stream",
          "name": "stdout",
          "text": [
            "2\n"
          ]
        },
        {
          "output_type": "stream",
          "name": "stderr",
          "text": [
            "100%|██████████| 1/1 [00:00<00:00,  3.49it/s]\n"
          ]
        },
        {
          "output_type": "stream",
          "name": "stdout",
          "text": [
            "3\n"
          ]
        },
        {
          "output_type": "stream",
          "name": "stderr",
          "text": [
            "100%|██████████| 1/1 [00:00<00:00,  3.45it/s]\n"
          ]
        },
        {
          "output_type": "stream",
          "name": "stdout",
          "text": [
            "4\n"
          ]
        },
        {
          "output_type": "stream",
          "name": "stderr",
          "text": [
            "100%|██████████| 1/1 [00:00<00:00,  3.52it/s]\n"
          ]
        },
        {
          "output_type": "stream",
          "name": "stdout",
          "text": [
            "5\n"
          ]
        },
        {
          "output_type": "stream",
          "name": "stderr",
          "text": [
            "100%|██████████| 1/1 [00:00<00:00,  3.47it/s]\n"
          ]
        },
        {
          "output_type": "stream",
          "name": "stdout",
          "text": [
            "6\n"
          ]
        },
        {
          "output_type": "stream",
          "name": "stderr",
          "text": [
            "100%|██████████| 1/1 [00:00<00:00,  2.67it/s]\n"
          ]
        },
        {
          "output_type": "stream",
          "name": "stdout",
          "text": [
            "7\n"
          ]
        },
        {
          "output_type": "stream",
          "name": "stderr",
          "text": [
            "100%|██████████| 1/1 [00:00<00:00,  3.03it/s]\n"
          ]
        },
        {
          "output_type": "stream",
          "name": "stdout",
          "text": [
            "8\n"
          ]
        },
        {
          "output_type": "stream",
          "name": "stderr",
          "text": [
            "100%|██████████| 1/1 [00:00<00:00,  2.86it/s]\n"
          ]
        },
        {
          "output_type": "stream",
          "name": "stdout",
          "text": [
            "9\n"
          ]
        },
        {
          "output_type": "stream",
          "name": "stderr",
          "text": [
            "100%|██████████| 1/1 [00:00<00:00,  3.06it/s]\n"
          ]
        },
        {
          "output_type": "display_data",
          "data": {
            "text/plain": [
              "<Figure size 576x432 with 1 Axes>"
            ],
            "image/png": "[encoded data removed]"
          },
          "metadata": {
            "needs_background": "light"
          }
        },
        {
          "output_type": "stream",
          "name": "stdout",
          "text": [
            "(182, 64, 64, 10)\n",
            "0\n"
          ]
        },
        {
          "output_type": "stream",
          "name": "stderr",
          "text": [
            "100%|██████████| 1/1 [00:00<00:00,  3.07it/s]\n"
          ]
        },
        {
          "output_type": "stream",
          "name": "stdout",
          "text": [
            "1\n"
          ]
        },
        {
          "output_type": "stream",
          "name": "stderr",
          "text": [
            "100%|██████████| 1/1 [00:00<00:00,  2.69it/s]\n"
          ]
        },
        {
          "output_type": "stream",
          "name": "stdout",
          "text": [
            "2\n"
          ]
        },
        {
          "output_type": "stream",
          "name": "stderr",
          "text": [
            "100%|██████████| 1/1 [00:00<00:00,  2.76it/s]\n"
          ]
        },
        {
          "output_type": "stream",
          "name": "stdout",
          "text": [
            "3\n"
          ]
        },
        {
          "output_type": "stream",
          "name": "stderr",
          "text": [
            "100%|██████████| 1/1 [00:00<00:00,  3.00it/s]\n"
          ]
        },
        {
          "output_type": "stream",
          "name": "stdout",
          "text": [
            "4\n"
          ]
        },
        {
          "output_type": "stream",
          "name": "stderr",
          "text": [
            "100%|██████████| 1/1 [00:00<00:00,  3.03it/s]\n"
          ]
        },
        {
          "output_type": "stream",
          "name": "stdout",
          "text": [
            "5\n"
          ]
        },
        {
          "output_type": "stream",
          "name": "stderr",
          "text": [
            "100%|██████████| 1/1 [00:00<00:00,  2.85it/s]\n"
          ]
        },
        {
          "output_type": "stream",
          "name": "stdout",
          "text": [
            "6\n"
          ]
        },
        {
          "output_type": "stream",
          "name": "stderr",
          "text": [
            "100%|██████████| 1/1 [00:00<00:00,  3.07it/s]\n"
          ]
        },
        {
          "output_type": "stream",
          "name": "stdout",
          "text": [
            "7\n"
          ]
        },
        {
          "output_type": "stream",
          "name": "stderr",
          "text": [
            "100%|██████████| 1/1 [00:00<00:00,  3.28it/s]\n"
          ]
        },
        {
          "output_type": "stream",
          "name": "stdout",
          "text": [
            "8\n"
          ]
        },
        {
          "output_type": "stream",
          "name": "stderr",
          "text": [
            "100%|██████████| 1/1 [00:00<00:00,  3.15it/s]\n"
          ]
        },
        {
          "output_type": "stream",
          "name": "stdout",
          "text": [
            "9\n"
          ]
        },
        {
          "output_type": "stream",
          "name": "stderr",
          "text": [
            "100%|██████████| 1/1 [00:00<00:00,  2.97it/s]\n"
          ]
        },
        {
          "output_type": "display_data",
          "data": {
            "text/plain": [
              "<Figure size 576x432 with 1 Axes>"
            ],
            "image/png": "[encoded data removed]"
          },
          "metadata": {
            "needs_background": "light"
          }
        },
        {
          "output_type": "stream",
          "name": "stdout",
          "text": [
            "(182, 64, 64, 10)\n",
            "0\n"
          ]
        },
        {
          "output_type": "stream",
          "name": "stderr",
          "text": [
            "100%|██████████| 1/1 [00:00<00:00,  2.92it/s]\n"
          ]
        },
        {
          "output_type": "stream",
          "name": "stdout",
          "text": [
            "1\n"
          ]
        },
        {
          "output_type": "stream",
          "name": "stderr",
          "text": [
            "100%|██████████| 1/1 [00:00<00:00,  3.18it/s]\n"
          ]
        },
        {
          "output_type": "stream",
          "name": "stdout",
          "text": [
            "2\n"
          ]
        },
        {
          "output_type": "stream",
          "name": "stderr",
          "text": [
            "100%|██████████| 1/1 [00:00<00:00,  2.91it/s]\n"
          ]
        },
        {
          "output_type": "stream",
          "name": "stdout",
          "text": [
            "3\n"
          ]
        },
        {
          "output_type": "stream",
          "name": "stderr",
          "text": [
            "100%|██████████| 1/1 [00:00<00:00,  3.36it/s]\n"
          ]
        },
        {
          "output_type": "stream",
          "name": "stdout",
          "text": [
            "4\n"
          ]
        },
        {
          "output_type": "stream",
          "name": "stderr",
          "text": [
            "100%|██████████| 1/1 [00:00<00:00,  2.91it/s]\n"
          ]
        },
        {
          "output_type": "stream",
          "name": "stdout",
          "text": [
            "5\n"
          ]
        },
        {
          "output_type": "stream",
          "name": "stderr",
          "text": [
            "100%|██████████| 1/1 [00:00<00:00,  3.37it/s]\n"
          ]
        },
        {
          "output_type": "stream",
          "name": "stdout",
          "text": [
            "6\n"
          ]
        },
        {
          "output_type": "stream",
          "name": "stderr",
          "text": [
            "100%|██████████| 1/1 [00:00<00:00,  2.79it/s]\n"
          ]
        },
        {
          "output_type": "stream",
          "name": "stdout",
          "text": [
            "7\n"
          ]
        },
        {
          "output_type": "stream",
          "name": "stderr",
          "text": [
            "100%|██████████| 1/1 [00:00<00:00,  2.99it/s]\n"
          ]
        },
        {
          "output_type": "stream",
          "name": "stdout",
          "text": [
            "8\n"
          ]
        },
        {
          "output_type": "stream",
          "name": "stderr",
          "text": [
            "100%|██████████| 1/1 [00:00<00:00,  3.00it/s]\n"
          ]
        },
        {
          "output_type": "stream",
          "name": "stdout",
          "text": [
            "9\n"
          ]
        },
        {
          "output_type": "stream",
          "name": "stderr",
          "text": [
            "100%|██████████| 1/1 [00:00<00:00,  3.05it/s]\n"
          ]
        },
        {
          "output_type": "display_data",
          "data": {
            "text/plain": [
              "<Figure size 576x432 with 1 Axes>"
            ],
            "image/png": "[encoded data removed]"
          },
          "metadata": {
            "needs_background": "light"
          }
        },
        {
          "output_type": "stream",
          "name": "stdout",
          "text": [
            "(182, 64, 64, 10)\n",
            "0\n"
          ]
        },
        {
          "output_type": "stream",
          "name": "stderr",
          "text": [
            "\r  0%|          | 0/1 [00:00<?, ?it/s]"
          ]
        },
        {
          "output_type": "stream",
          "name": "stdout",
          "text": [
            "WARNING:tensorflow:Detecting that an object or model or tf.train.Checkpoint is being deleted with unrestored values. See the following logs for the specific values in question. To silence these warnings, use `status.expect_partial()`. See https://www.tensorflow.org/api_docs/python/tf/train/Checkpoint#restorefor details about the status object returned by the restore function.\n",
            "WARNING:tensorflow:Value in checkpoint could not be found in the restored object: (root).optimizer.iter\n",
            "WARNING:tensorflow:Value in checkpoint could not be found in the restored object: (root).optimizer.beta_1\n",
            "WARNING:tensorflow:Value in checkpoint could not be found in the restored object: (root).optimizer.beta_2\n",
            "WARNING:tensorflow:Value in checkpoint could not be found in the restored object: (root).optimizer.decay\n",
            "WARNING:tensorflow:Value in checkpoint could not be found in the restored object: (root).optimizer.learning_rate\n",
            "WARNING:tensorflow:Detecting that an object or model or tf.train.Checkpoint is being deleted with unrestored values. See the following logs for the specific values in question. To silence these warnings, use `status.expect_partial()`. See https://www.tensorflow.org/api_docs/python/tf/train/Checkpoint#restorefor details about the status object returned by the restore function.\n",
            "WARNING:tensorflow:Value in checkpoint could not be found in the restored object: (root).optimizer.iter\n",
            "WARNING:tensorflow:Value in checkpoint could not be found in the restored object: (root).optimizer.beta_1\n",
            "WARNING:tensorflow:Value in checkpoint could not be found in the restored object: (root).optimizer.beta_2\n",
            "WARNING:tensorflow:Value in checkpoint could not be found in the restored object: (root).optimizer.decay\n",
            "WARNING:tensorflow:Value in checkpoint could not be found in the restored object: (root).optimizer.learning_rate\n"
          ]
        },
        {
          "output_type": "stream",
          "name": "stderr",
          "text": [
            "100%|██████████| 1/1 [00:01<00:00,  1.04s/it]\n"
          ]
        },
        {
          "output_type": "stream",
          "name": "stdout",
          "text": [
            "1\n"
          ]
        },
        {
          "output_type": "stream",
          "name": "stderr",
          "text": [
            "100%|██████████| 1/1 [00:00<00:00,  2.70it/s]\n"
          ]
        },
        {
          "output_type": "stream",
          "name": "stdout",
          "text": [
            "2\n"
          ]
        },
        {
          "output_type": "stream",
          "name": "stderr",
          "text": [
            "100%|██████████| 1/1 [00:00<00:00,  2.91it/s]\n"
          ]
        },
        {
          "output_type": "stream",
          "name": "stdout",
          "text": [
            "3\n"
          ]
        },
        {
          "output_type": "stream",
          "name": "stderr",
          "text": [
            "100%|██████████| 1/1 [00:00<00:00,  2.76it/s]\n"
          ]
        },
        {
          "output_type": "stream",
          "name": "stdout",
          "text": [
            "4\n"
          ]
        },
        {
          "output_type": "stream",
          "name": "stderr",
          "text": [
            "100%|██████████| 1/1 [00:00<00:00,  2.53it/s]\n"
          ]
        },
        {
          "output_type": "stream",
          "name": "stdout",
          "text": [
            "5\n"
          ]
        },
        {
          "output_type": "stream",
          "name": "stderr",
          "text": [
            "100%|██████████| 1/1 [00:00<00:00,  3.06it/s]\n"
          ]
        },
        {
          "output_type": "stream",
          "name": "stdout",
          "text": [
            "6\n"
          ]
        },
        {
          "output_type": "stream",
          "name": "stderr",
          "text": [
            "100%|██████████| 1/1 [00:00<00:00,  3.30it/s]\n"
          ]
        },
        {
          "output_type": "stream",
          "name": "stdout",
          "text": [
            "7\n"
          ]
        },
        {
          "output_type": "stream",
          "name": "stderr",
          "text": [
            "100%|██████████| 1/1 [00:00<00:00,  3.20it/s]\n"
          ]
        },
        {
          "output_type": "stream",
          "name": "stdout",
          "text": [
            "8\n"
          ]
        },
        {
          "output_type": "stream",
          "name": "stderr",
          "text": [
            "100%|██████████| 1/1 [00:00<00:00,  2.87it/s]\n"
          ]
        },
        {
          "output_type": "stream",
          "name": "stdout",
          "text": [
            "9\n"
          ]
        },
        {
          "output_type": "stream",
          "name": "stderr",
          "text": [
            "100%|██████████| 1/1 [00:00<00:00,  3.22it/s]\n"
          ]
        },
        {
          "output_type": "display_data",
          "data": {
            "text/plain": [
              "<Figure size 576x432 with 1 Axes>"
            ],
            "image/png": "[encoded data removed]"
          },
          "metadata": {
            "needs_background": "light"
          }
        }
      ]
    }
  ],
  "metadata": {
    "accelerator": "GPU",
    "colab": {
      "collapsed_sections": [],
      "machine_shape": "hm",
      "name": "SNR_LodeSTAR.ipynb",
      "provenance": []
    },
    "kernelspec": {
      "display_name": "Python 3",
      "language": "python",
      "name": "python3"
    },
    "language_info": {
      "codemirror_mode": {
        "name": "ipython",
        "version": 3
      },
      "file_extension": ".py",
      "mimetype": "text/x-python",
      "name": "python",
      "nbconvert_exporter": "python",
      "pygments_lexer": "ipython3",
      "version": "3.7.8"
    }
  },
  "nbformat": 4,
  "nbformat_minor": 0
}